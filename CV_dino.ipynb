{
  "nbformat": 4,
  "nbformat_minor": 0,
  "metadata": {
    "colab": {
      "provenance": [],
      "authorship_tag": "ABX9TyOiy88J6QOf8vkYqtADQxzC",
      "include_colab_link": true
    },
    "kernelspec": {
      "name": "python3",
      "display_name": "Python 3"
    },
    "language_info": {
      "name": "python"
    },
    "widgets": {
      "application/vnd.jupyter.widget-state+json": {
        "2fb100f730ee4e31a9bbc331bfc50f9a": {
          "model_module": "@jupyter-widgets/controls",
          "model_name": "HBoxModel",
          "model_module_version": "1.5.0",
          "state": {
            "_dom_classes": [],
            "_model_module": "@jupyter-widgets/controls",
            "_model_module_version": "1.5.0",
            "_model_name": "HBoxModel",
            "_view_count": null,
            "_view_module": "@jupyter-widgets/controls",
            "_view_module_version": "1.5.0",
            "_view_name": "HBoxView",
            "box_style": "",
            "children": [
              "IPY_MODEL_50335c196633499f957a150a5e014fba",
              "IPY_MODEL_f9488aa279734cbda24e383788e311b1",
              "IPY_MODEL_08027b65d5d6432aa94c6a23fe5e8a13"
            ],
            "layout": "IPY_MODEL_62fd09b2bca14afbaa45d39c96016160"
          }
        },
        "50335c196633499f957a150a5e014fba": {
          "model_module": "@jupyter-widgets/controls",
          "model_name": "HTMLModel",
          "model_module_version": "1.5.0",
          "state": {
            "_dom_classes": [],
            "_model_module": "@jupyter-widgets/controls",
            "_model_module_version": "1.5.0",
            "_model_name": "HTMLModel",
            "_view_count": null,
            "_view_module": "@jupyter-widgets/controls",
            "_view_module_version": "1.5.0",
            "_view_name": "HTMLView",
            "description": "",
            "description_tooltip": null,
            "layout": "IPY_MODEL_e2d4524e863f448e8d56d080ceec82c8",
            "placeholder": "​",
            "style": "IPY_MODEL_219efb5f9d4541f6a521412f1f3ea12d",
            "value": "Dl Completed...: 100%"
          }
        },
        "f9488aa279734cbda24e383788e311b1": {
          "model_module": "@jupyter-widgets/controls",
          "model_name": "FloatProgressModel",
          "model_module_version": "1.5.0",
          "state": {
            "_dom_classes": [],
            "_model_module": "@jupyter-widgets/controls",
            "_model_module_version": "1.5.0",
            "_model_name": "FloatProgressModel",
            "_view_count": null,
            "_view_module": "@jupyter-widgets/controls",
            "_view_module_version": "1.5.0",
            "_view_name": "ProgressView",
            "bar_style": "info",
            "description": "",
            "description_tooltip": null,
            "layout": "IPY_MODEL_20f79195bc5942979e14417e912f7f13",
            "max": 1,
            "min": 0,
            "orientation": "horizontal",
            "style": "IPY_MODEL_72df3eb8dc424ef6b9ecdcf53629b3aa",
            "value": 1
          }
        },
        "08027b65d5d6432aa94c6a23fe5e8a13": {
          "model_module": "@jupyter-widgets/controls",
          "model_name": "HTMLModel",
          "model_module_version": "1.5.0",
          "state": {
            "_dom_classes": [],
            "_model_module": "@jupyter-widgets/controls",
            "_model_module_version": "1.5.0",
            "_model_name": "HTMLModel",
            "_view_count": null,
            "_view_module": "@jupyter-widgets/controls",
            "_view_module_version": "1.5.0",
            "_view_name": "HTMLView",
            "description": "",
            "description_tooltip": null,
            "layout": "IPY_MODEL_d1ec552dbf3d4ec5b8993aca91ffe892",
            "placeholder": "​",
            "style": "IPY_MODEL_67ffeffd012847b79d5040db4fe5e6d4",
            "value": " 5/5 [26:30&lt;00:00, 375.70s/ url]"
          }
        },
        "62fd09b2bca14afbaa45d39c96016160": {
          "model_module": "@jupyter-widgets/base",
          "model_name": "LayoutModel",
          "model_module_version": "1.2.0",
          "state": {
            "_model_module": "@jupyter-widgets/base",
            "_model_module_version": "1.2.0",
            "_model_name": "LayoutModel",
            "_view_count": null,
            "_view_module": "@jupyter-widgets/base",
            "_view_module_version": "1.2.0",
            "_view_name": "LayoutView",
            "align_content": null,
            "align_items": null,
            "align_self": null,
            "border": null,
            "bottom": null,
            "display": null,
            "flex": null,
            "flex_flow": null,
            "grid_area": null,
            "grid_auto_columns": null,
            "grid_auto_flow": null,
            "grid_auto_rows": null,
            "grid_column": null,
            "grid_gap": null,
            "grid_row": null,
            "grid_template_areas": null,
            "grid_template_columns": null,
            "grid_template_rows": null,
            "height": null,
            "justify_content": null,
            "justify_items": null,
            "left": null,
            "margin": null,
            "max_height": null,
            "max_width": null,
            "min_height": null,
            "min_width": null,
            "object_fit": null,
            "object_position": null,
            "order": null,
            "overflow": null,
            "overflow_x": null,
            "overflow_y": null,
            "padding": null,
            "right": null,
            "top": null,
            "visibility": null,
            "width": null
          }
        },
        "e2d4524e863f448e8d56d080ceec82c8": {
          "model_module": "@jupyter-widgets/base",
          "model_name": "LayoutModel",
          "model_module_version": "1.2.0",
          "state": {
            "_model_module": "@jupyter-widgets/base",
            "_model_module_version": "1.2.0",
            "_model_name": "LayoutModel",
            "_view_count": null,
            "_view_module": "@jupyter-widgets/base",
            "_view_module_version": "1.2.0",
            "_view_name": "LayoutView",
            "align_content": null,
            "align_items": null,
            "align_self": null,
            "border": null,
            "bottom": null,
            "display": null,
            "flex": null,
            "flex_flow": null,
            "grid_area": null,
            "grid_auto_columns": null,
            "grid_auto_flow": null,
            "grid_auto_rows": null,
            "grid_column": null,
            "grid_gap": null,
            "grid_row": null,
            "grid_template_areas": null,
            "grid_template_columns": null,
            "grid_template_rows": null,
            "height": null,
            "justify_content": null,
            "justify_items": null,
            "left": null,
            "margin": null,
            "max_height": null,
            "max_width": null,
            "min_height": null,
            "min_width": null,
            "object_fit": null,
            "object_position": null,
            "order": null,
            "overflow": null,
            "overflow_x": null,
            "overflow_y": null,
            "padding": null,
            "right": null,
            "top": null,
            "visibility": null,
            "width": null
          }
        },
        "219efb5f9d4541f6a521412f1f3ea12d": {
          "model_module": "@jupyter-widgets/controls",
          "model_name": "DescriptionStyleModel",
          "model_module_version": "1.5.0",
          "state": {
            "_model_module": "@jupyter-widgets/controls",
            "_model_module_version": "1.5.0",
            "_model_name": "DescriptionStyleModel",
            "_view_count": null,
            "_view_module": "@jupyter-widgets/base",
            "_view_module_version": "1.2.0",
            "_view_name": "StyleView",
            "description_width": ""
          }
        },
        "20f79195bc5942979e14417e912f7f13": {
          "model_module": "@jupyter-widgets/base",
          "model_name": "LayoutModel",
          "model_module_version": "1.2.0",
          "state": {
            "_model_module": "@jupyter-widgets/base",
            "_model_module_version": "1.2.0",
            "_model_name": "LayoutModel",
            "_view_count": null,
            "_view_module": "@jupyter-widgets/base",
            "_view_module_version": "1.2.0",
            "_view_name": "LayoutView",
            "align_content": null,
            "align_items": null,
            "align_self": null,
            "border": null,
            "bottom": null,
            "display": null,
            "flex": null,
            "flex_flow": null,
            "grid_area": null,
            "grid_auto_columns": null,
            "grid_auto_flow": null,
            "grid_auto_rows": null,
            "grid_column": null,
            "grid_gap": null,
            "grid_row": null,
            "grid_template_areas": null,
            "grid_template_columns": null,
            "grid_template_rows": null,
            "height": null,
            "justify_content": null,
            "justify_items": null,
            "left": null,
            "margin": null,
            "max_height": null,
            "max_width": null,
            "min_height": null,
            "min_width": null,
            "object_fit": null,
            "object_position": null,
            "order": null,
            "overflow": null,
            "overflow_x": null,
            "overflow_y": null,
            "padding": null,
            "right": null,
            "top": null,
            "visibility": null,
            "width": "20px"
          }
        },
        "72df3eb8dc424ef6b9ecdcf53629b3aa": {
          "model_module": "@jupyter-widgets/controls",
          "model_name": "ProgressStyleModel",
          "model_module_version": "1.5.0",
          "state": {
            "_model_module": "@jupyter-widgets/controls",
            "_model_module_version": "1.5.0",
            "_model_name": "ProgressStyleModel",
            "_view_count": null,
            "_view_module": "@jupyter-widgets/base",
            "_view_module_version": "1.2.0",
            "_view_name": "StyleView",
            "bar_color": null,
            "description_width": ""
          }
        },
        "d1ec552dbf3d4ec5b8993aca91ffe892": {
          "model_module": "@jupyter-widgets/base",
          "model_name": "LayoutModel",
          "model_module_version": "1.2.0",
          "state": {
            "_model_module": "@jupyter-widgets/base",
            "_model_module_version": "1.2.0",
            "_model_name": "LayoutModel",
            "_view_count": null,
            "_view_module": "@jupyter-widgets/base",
            "_view_module_version": "1.2.0",
            "_view_name": "LayoutView",
            "align_content": null,
            "align_items": null,
            "align_self": null,
            "border": null,
            "bottom": null,
            "display": null,
            "flex": null,
            "flex_flow": null,
            "grid_area": null,
            "grid_auto_columns": null,
            "grid_auto_flow": null,
            "grid_auto_rows": null,
            "grid_column": null,
            "grid_gap": null,
            "grid_row": null,
            "grid_template_areas": null,
            "grid_template_columns": null,
            "grid_template_rows": null,
            "height": null,
            "justify_content": null,
            "justify_items": null,
            "left": null,
            "margin": null,
            "max_height": null,
            "max_width": null,
            "min_height": null,
            "min_width": null,
            "object_fit": null,
            "object_position": null,
            "order": null,
            "overflow": null,
            "overflow_x": null,
            "overflow_y": null,
            "padding": null,
            "right": null,
            "top": null,
            "visibility": null,
            "width": null
          }
        },
        "67ffeffd012847b79d5040db4fe5e6d4": {
          "model_module": "@jupyter-widgets/controls",
          "model_name": "DescriptionStyleModel",
          "model_module_version": "1.5.0",
          "state": {
            "_model_module": "@jupyter-widgets/controls",
            "_model_module_version": "1.5.0",
            "_model_name": "DescriptionStyleModel",
            "_view_count": null,
            "_view_module": "@jupyter-widgets/base",
            "_view_module_version": "1.2.0",
            "_view_name": "StyleView",
            "description_width": ""
          }
        },
        "fb6df20c13654880ac20e7159838bf2f": {
          "model_module": "@jupyter-widgets/controls",
          "model_name": "HBoxModel",
          "model_module_version": "1.5.0",
          "state": {
            "_dom_classes": [],
            "_model_module": "@jupyter-widgets/controls",
            "_model_module_version": "1.5.0",
            "_model_name": "HBoxModel",
            "_view_count": null,
            "_view_module": "@jupyter-widgets/controls",
            "_view_module_version": "1.5.0",
            "_view_name": "HBoxView",
            "box_style": "",
            "children": [
              "IPY_MODEL_a67a121723e548839af6bc85482d8634",
              "IPY_MODEL_e32ea9e4b5174bc5bdf5de850271c7c8",
              "IPY_MODEL_de71b0d0fd5d496bbd7e315e7d730529"
            ],
            "layout": "IPY_MODEL_408a40e83ea74d42a83ddbdc7218720b"
          }
        },
        "a67a121723e548839af6bc85482d8634": {
          "model_module": "@jupyter-widgets/controls",
          "model_name": "HTMLModel",
          "model_module_version": "1.5.0",
          "state": {
            "_dom_classes": [],
            "_model_module": "@jupyter-widgets/controls",
            "_model_module_version": "1.5.0",
            "_model_name": "HTMLModel",
            "_view_count": null,
            "_view_module": "@jupyter-widgets/controls",
            "_view_module_version": "1.5.0",
            "_view_name": "HTMLView",
            "description": "",
            "description_tooltip": null,
            "layout": "IPY_MODEL_d73f2f82842c4ffe99f6646f56e2dbac",
            "placeholder": "​",
            "style": "IPY_MODEL_e66b2a6635194bb580b0e610d05da668",
            "value": "Dl Size...: 100%"
          }
        },
        "e32ea9e4b5174bc5bdf5de850271c7c8": {
          "model_module": "@jupyter-widgets/controls",
          "model_name": "FloatProgressModel",
          "model_module_version": "1.5.0",
          "state": {
            "_dom_classes": [],
            "_model_module": "@jupyter-widgets/controls",
            "_model_module_version": "1.5.0",
            "_model_name": "FloatProgressModel",
            "_view_count": null,
            "_view_module": "@jupyter-widgets/controls",
            "_view_module_version": "1.5.0",
            "_view_name": "ProgressView",
            "bar_style": "info",
            "description": "",
            "description_tooltip": null,
            "layout": "IPY_MODEL_e86072db403a406fa3c4a9535434724c",
            "max": 1,
            "min": 0,
            "orientation": "horizontal",
            "style": "IPY_MODEL_097dd2955b4540859586dff0240d7e0f",
            "value": 1
          }
        },
        "de71b0d0fd5d496bbd7e315e7d730529": {
          "model_module": "@jupyter-widgets/controls",
          "model_name": "HTMLModel",
          "model_module_version": "1.5.0",
          "state": {
            "_dom_classes": [],
            "_model_module": "@jupyter-widgets/controls",
            "_model_module_version": "1.5.0",
            "_model_name": "HTMLModel",
            "_view_count": null,
            "_view_module": "@jupyter-widgets/controls",
            "_view_module_version": "1.5.0",
            "_view_name": "HTMLView",
            "description": "",
            "description_tooltip": null,
            "layout": "IPY_MODEL_9f13a4afab024232afb42fb0437d4b50",
            "placeholder": "​",
            "style": "IPY_MODEL_f8148d99f5eb4e79bfb0f1da70ac1f3b",
            "value": " 25799/25799 [26:30&lt;00:00, 16.38 MiB/s]"
          }
        },
        "408a40e83ea74d42a83ddbdc7218720b": {
          "model_module": "@jupyter-widgets/base",
          "model_name": "LayoutModel",
          "model_module_version": "1.2.0",
          "state": {
            "_model_module": "@jupyter-widgets/base",
            "_model_module_version": "1.2.0",
            "_model_name": "LayoutModel",
            "_view_count": null,
            "_view_module": "@jupyter-widgets/base",
            "_view_module_version": "1.2.0",
            "_view_name": "LayoutView",
            "align_content": null,
            "align_items": null,
            "align_self": null,
            "border": null,
            "bottom": null,
            "display": null,
            "flex": null,
            "flex_flow": null,
            "grid_area": null,
            "grid_auto_columns": null,
            "grid_auto_flow": null,
            "grid_auto_rows": null,
            "grid_column": null,
            "grid_gap": null,
            "grid_row": null,
            "grid_template_areas": null,
            "grid_template_columns": null,
            "grid_template_rows": null,
            "height": null,
            "justify_content": null,
            "justify_items": null,
            "left": null,
            "margin": null,
            "max_height": null,
            "max_width": null,
            "min_height": null,
            "min_width": null,
            "object_fit": null,
            "object_position": null,
            "order": null,
            "overflow": null,
            "overflow_x": null,
            "overflow_y": null,
            "padding": null,
            "right": null,
            "top": null,
            "visibility": null,
            "width": null
          }
        },
        "d73f2f82842c4ffe99f6646f56e2dbac": {
          "model_module": "@jupyter-widgets/base",
          "model_name": "LayoutModel",
          "model_module_version": "1.2.0",
          "state": {
            "_model_module": "@jupyter-widgets/base",
            "_model_module_version": "1.2.0",
            "_model_name": "LayoutModel",
            "_view_count": null,
            "_view_module": "@jupyter-widgets/base",
            "_view_module_version": "1.2.0",
            "_view_name": "LayoutView",
            "align_content": null,
            "align_items": null,
            "align_self": null,
            "border": null,
            "bottom": null,
            "display": null,
            "flex": null,
            "flex_flow": null,
            "grid_area": null,
            "grid_auto_columns": null,
            "grid_auto_flow": null,
            "grid_auto_rows": null,
            "grid_column": null,
            "grid_gap": null,
            "grid_row": null,
            "grid_template_areas": null,
            "grid_template_columns": null,
            "grid_template_rows": null,
            "height": null,
            "justify_content": null,
            "justify_items": null,
            "left": null,
            "margin": null,
            "max_height": null,
            "max_width": null,
            "min_height": null,
            "min_width": null,
            "object_fit": null,
            "object_position": null,
            "order": null,
            "overflow": null,
            "overflow_x": null,
            "overflow_y": null,
            "padding": null,
            "right": null,
            "top": null,
            "visibility": null,
            "width": null
          }
        },
        "e66b2a6635194bb580b0e610d05da668": {
          "model_module": "@jupyter-widgets/controls",
          "model_name": "DescriptionStyleModel",
          "model_module_version": "1.5.0",
          "state": {
            "_model_module": "@jupyter-widgets/controls",
            "_model_module_version": "1.5.0",
            "_model_name": "DescriptionStyleModel",
            "_view_count": null,
            "_view_module": "@jupyter-widgets/base",
            "_view_module_version": "1.2.0",
            "_view_name": "StyleView",
            "description_width": ""
          }
        },
        "e86072db403a406fa3c4a9535434724c": {
          "model_module": "@jupyter-widgets/base",
          "model_name": "LayoutModel",
          "model_module_version": "1.2.0",
          "state": {
            "_model_module": "@jupyter-widgets/base",
            "_model_module_version": "1.2.0",
            "_model_name": "LayoutModel",
            "_view_count": null,
            "_view_module": "@jupyter-widgets/base",
            "_view_module_version": "1.2.0",
            "_view_name": "LayoutView",
            "align_content": null,
            "align_items": null,
            "align_self": null,
            "border": null,
            "bottom": null,
            "display": null,
            "flex": null,
            "flex_flow": null,
            "grid_area": null,
            "grid_auto_columns": null,
            "grid_auto_flow": null,
            "grid_auto_rows": null,
            "grid_column": null,
            "grid_gap": null,
            "grid_row": null,
            "grid_template_areas": null,
            "grid_template_columns": null,
            "grid_template_rows": null,
            "height": null,
            "justify_content": null,
            "justify_items": null,
            "left": null,
            "margin": null,
            "max_height": null,
            "max_width": null,
            "min_height": null,
            "min_width": null,
            "object_fit": null,
            "object_position": null,
            "order": null,
            "overflow": null,
            "overflow_x": null,
            "overflow_y": null,
            "padding": null,
            "right": null,
            "top": null,
            "visibility": null,
            "width": "20px"
          }
        },
        "097dd2955b4540859586dff0240d7e0f": {
          "model_module": "@jupyter-widgets/controls",
          "model_name": "ProgressStyleModel",
          "model_module_version": "1.5.0",
          "state": {
            "_model_module": "@jupyter-widgets/controls",
            "_model_module_version": "1.5.0",
            "_model_name": "ProgressStyleModel",
            "_view_count": null,
            "_view_module": "@jupyter-widgets/base",
            "_view_module_version": "1.2.0",
            "_view_name": "StyleView",
            "bar_color": null,
            "description_width": ""
          }
        },
        "9f13a4afab024232afb42fb0437d4b50": {
          "model_module": "@jupyter-widgets/base",
          "model_name": "LayoutModel",
          "model_module_version": "1.2.0",
          "state": {
            "_model_module": "@jupyter-widgets/base",
            "_model_module_version": "1.2.0",
            "_model_name": "LayoutModel",
            "_view_count": null,
            "_view_module": "@jupyter-widgets/base",
            "_view_module_version": "1.2.0",
            "_view_name": "LayoutView",
            "align_content": null,
            "align_items": null,
            "align_self": null,
            "border": null,
            "bottom": null,
            "display": null,
            "flex": null,
            "flex_flow": null,
            "grid_area": null,
            "grid_auto_columns": null,
            "grid_auto_flow": null,
            "grid_auto_rows": null,
            "grid_column": null,
            "grid_gap": null,
            "grid_row": null,
            "grid_template_areas": null,
            "grid_template_columns": null,
            "grid_template_rows": null,
            "height": null,
            "justify_content": null,
            "justify_items": null,
            "left": null,
            "margin": null,
            "max_height": null,
            "max_width": null,
            "min_height": null,
            "min_width": null,
            "object_fit": null,
            "object_position": null,
            "order": null,
            "overflow": null,
            "overflow_x": null,
            "overflow_y": null,
            "padding": null,
            "right": null,
            "top": null,
            "visibility": null,
            "width": null
          }
        },
        "f8148d99f5eb4e79bfb0f1da70ac1f3b": {
          "model_module": "@jupyter-widgets/controls",
          "model_name": "DescriptionStyleModel",
          "model_module_version": "1.5.0",
          "state": {
            "_model_module": "@jupyter-widgets/controls",
            "_model_module_version": "1.5.0",
            "_model_name": "DescriptionStyleModel",
            "_view_count": null,
            "_view_module": "@jupyter-widgets/base",
            "_view_module_version": "1.2.0",
            "_view_name": "StyleView",
            "description_width": ""
          }
        },
        "398094f148d540d6b1e5456222e890d0": {
          "model_module": "@jupyter-widgets/controls",
          "model_name": "HBoxModel",
          "model_module_version": "1.5.0",
          "state": {
            "_dom_classes": [],
            "_model_module": "@jupyter-widgets/controls",
            "_model_module_version": "1.5.0",
            "_model_name": "HBoxModel",
            "_view_count": null,
            "_view_module": "@jupyter-widgets/controls",
            "_view_module_version": "1.5.0",
            "_view_name": "HBoxView",
            "box_style": "",
            "children": [
              "IPY_MODEL_b6b9e68b98d64af69f1eb17f9d5fb387",
              "IPY_MODEL_2aad8ea8ca6441b797873fdf96d957be",
              "IPY_MODEL_e30bfc9e38984ed0a6336c50cf3f4372"
            ],
            "layout": "IPY_MODEL_b80b42aac8aa407cbe86b9f881b8366f"
          }
        },
        "b6b9e68b98d64af69f1eb17f9d5fb387": {
          "model_module": "@jupyter-widgets/controls",
          "model_name": "HTMLModel",
          "model_module_version": "1.5.0",
          "state": {
            "_dom_classes": [],
            "_model_module": "@jupyter-widgets/controls",
            "_model_module_version": "1.5.0",
            "_model_name": "HTMLModel",
            "_view_count": null,
            "_view_module": "@jupyter-widgets/controls",
            "_view_module_version": "1.5.0",
            "_view_name": "HTMLView",
            "description": "",
            "description_tooltip": null,
            "layout": "IPY_MODEL_adf2783ca6ef4d51998d244d98e5447b",
            "placeholder": "​",
            "style": "IPY_MODEL_39b591c8c2fb482a914ef7c59650952e",
            "value": "Extraction completed...:  34%"
          }
        },
        "2aad8ea8ca6441b797873fdf96d957be": {
          "model_module": "@jupyter-widgets/controls",
          "model_name": "FloatProgressModel",
          "model_module_version": "1.5.0",
          "state": {
            "_dom_classes": [],
            "_model_module": "@jupyter-widgets/controls",
            "_model_module_version": "1.5.0",
            "_model_name": "FloatProgressModel",
            "_view_count": null,
            "_view_module": "@jupyter-widgets/controls",
            "_view_module_version": "1.5.0",
            "_view_name": "ProgressView",
            "bar_style": "info",
            "description": "",
            "description_tooltip": null,
            "layout": "IPY_MODEL_17db43c12e994ca8aae44bf9e32ab847",
            "max": 1,
            "min": 0,
            "orientation": "horizontal",
            "style": "IPY_MODEL_193c13018a1643aca4e0b89fe6891f3d",
            "value": 1
          }
        },
        "e30bfc9e38984ed0a6336c50cf3f4372": {
          "model_module": "@jupyter-widgets/controls",
          "model_name": "HTMLModel",
          "model_module_version": "1.5.0",
          "state": {
            "_dom_classes": [],
            "_model_module": "@jupyter-widgets/controls",
            "_model_module_version": "1.5.0",
            "_model_name": "HTMLModel",
            "_view_count": null,
            "_view_module": "@jupyter-widgets/controls",
            "_view_module_version": "1.5.0",
            "_view_name": "HTMLView",
            "description": "",
            "description_tooltip": null,
            "layout": "IPY_MODEL_e2bf4c284a8248659e15f39e6329093b",
            "placeholder": "​",
            "style": "IPY_MODEL_058760c9a93147caa7d28ee4965d0b6e",
            "value": " 45678/134807 [26:30&lt;03:25, 434.39 file/s]"
          }
        },
        "b80b42aac8aa407cbe86b9f881b8366f": {
          "model_module": "@jupyter-widgets/base",
          "model_name": "LayoutModel",
          "model_module_version": "1.2.0",
          "state": {
            "_model_module": "@jupyter-widgets/base",
            "_model_module_version": "1.2.0",
            "_model_name": "LayoutModel",
            "_view_count": null,
            "_view_module": "@jupyter-widgets/base",
            "_view_module_version": "1.2.0",
            "_view_name": "LayoutView",
            "align_content": null,
            "align_items": null,
            "align_self": null,
            "border": null,
            "bottom": null,
            "display": null,
            "flex": null,
            "flex_flow": null,
            "grid_area": null,
            "grid_auto_columns": null,
            "grid_auto_flow": null,
            "grid_auto_rows": null,
            "grid_column": null,
            "grid_gap": null,
            "grid_row": null,
            "grid_template_areas": null,
            "grid_template_columns": null,
            "grid_template_rows": null,
            "height": null,
            "justify_content": null,
            "justify_items": null,
            "left": null,
            "margin": null,
            "max_height": null,
            "max_width": null,
            "min_height": null,
            "min_width": null,
            "object_fit": null,
            "object_position": null,
            "order": null,
            "overflow": null,
            "overflow_x": null,
            "overflow_y": null,
            "padding": null,
            "right": null,
            "top": null,
            "visibility": null,
            "width": null
          }
        },
        "adf2783ca6ef4d51998d244d98e5447b": {
          "model_module": "@jupyter-widgets/base",
          "model_name": "LayoutModel",
          "model_module_version": "1.2.0",
          "state": {
            "_model_module": "@jupyter-widgets/base",
            "_model_module_version": "1.2.0",
            "_model_name": "LayoutModel",
            "_view_count": null,
            "_view_module": "@jupyter-widgets/base",
            "_view_module_version": "1.2.0",
            "_view_name": "LayoutView",
            "align_content": null,
            "align_items": null,
            "align_self": null,
            "border": null,
            "bottom": null,
            "display": null,
            "flex": null,
            "flex_flow": null,
            "grid_area": null,
            "grid_auto_columns": null,
            "grid_auto_flow": null,
            "grid_auto_rows": null,
            "grid_column": null,
            "grid_gap": null,
            "grid_row": null,
            "grid_template_areas": null,
            "grid_template_columns": null,
            "grid_template_rows": null,
            "height": null,
            "justify_content": null,
            "justify_items": null,
            "left": null,
            "margin": null,
            "max_height": null,
            "max_width": null,
            "min_height": null,
            "min_width": null,
            "object_fit": null,
            "object_position": null,
            "order": null,
            "overflow": null,
            "overflow_x": null,
            "overflow_y": null,
            "padding": null,
            "right": null,
            "top": null,
            "visibility": null,
            "width": null
          }
        },
        "39b591c8c2fb482a914ef7c59650952e": {
          "model_module": "@jupyter-widgets/controls",
          "model_name": "DescriptionStyleModel",
          "model_module_version": "1.5.0",
          "state": {
            "_model_module": "@jupyter-widgets/controls",
            "_model_module_version": "1.5.0",
            "_model_name": "DescriptionStyleModel",
            "_view_count": null,
            "_view_module": "@jupyter-widgets/base",
            "_view_module_version": "1.2.0",
            "_view_name": "StyleView",
            "description_width": ""
          }
        },
        "17db43c12e994ca8aae44bf9e32ab847": {
          "model_module": "@jupyter-widgets/base",
          "model_name": "LayoutModel",
          "model_module_version": "1.2.0",
          "state": {
            "_model_module": "@jupyter-widgets/base",
            "_model_module_version": "1.2.0",
            "_model_name": "LayoutModel",
            "_view_count": null,
            "_view_module": "@jupyter-widgets/base",
            "_view_module_version": "1.2.0",
            "_view_name": "LayoutView",
            "align_content": null,
            "align_items": null,
            "align_self": null,
            "border": null,
            "bottom": null,
            "display": null,
            "flex": null,
            "flex_flow": null,
            "grid_area": null,
            "grid_auto_columns": null,
            "grid_auto_flow": null,
            "grid_auto_rows": null,
            "grid_column": null,
            "grid_gap": null,
            "grid_row": null,
            "grid_template_areas": null,
            "grid_template_columns": null,
            "grid_template_rows": null,
            "height": null,
            "justify_content": null,
            "justify_items": null,
            "left": null,
            "margin": null,
            "max_height": null,
            "max_width": null,
            "min_height": null,
            "min_width": null,
            "object_fit": null,
            "object_position": null,
            "order": null,
            "overflow": null,
            "overflow_x": null,
            "overflow_y": null,
            "padding": null,
            "right": null,
            "top": null,
            "visibility": null,
            "width": "20px"
          }
        },
        "193c13018a1643aca4e0b89fe6891f3d": {
          "model_module": "@jupyter-widgets/controls",
          "model_name": "ProgressStyleModel",
          "model_module_version": "1.5.0",
          "state": {
            "_model_module": "@jupyter-widgets/controls",
            "_model_module_version": "1.5.0",
            "_model_name": "ProgressStyleModel",
            "_view_count": null,
            "_view_module": "@jupyter-widgets/base",
            "_view_module_version": "1.2.0",
            "_view_name": "StyleView",
            "bar_color": null,
            "description_width": ""
          }
        },
        "e2bf4c284a8248659e15f39e6329093b": {
          "model_module": "@jupyter-widgets/base",
          "model_name": "LayoutModel",
          "model_module_version": "1.2.0",
          "state": {
            "_model_module": "@jupyter-widgets/base",
            "_model_module_version": "1.2.0",
            "_model_name": "LayoutModel",
            "_view_count": null,
            "_view_module": "@jupyter-widgets/base",
            "_view_module_version": "1.2.0",
            "_view_name": "LayoutView",
            "align_content": null,
            "align_items": null,
            "align_self": null,
            "border": null,
            "bottom": null,
            "display": null,
            "flex": null,
            "flex_flow": null,
            "grid_area": null,
            "grid_auto_columns": null,
            "grid_auto_flow": null,
            "grid_auto_rows": null,
            "grid_column": null,
            "grid_gap": null,
            "grid_row": null,
            "grid_template_areas": null,
            "grid_template_columns": null,
            "grid_template_rows": null,
            "height": null,
            "justify_content": null,
            "justify_items": null,
            "left": null,
            "margin": null,
            "max_height": null,
            "max_width": null,
            "min_height": null,
            "min_width": null,
            "object_fit": null,
            "object_position": null,
            "order": null,
            "overflow": null,
            "overflow_x": null,
            "overflow_y": null,
            "padding": null,
            "right": null,
            "top": null,
            "visibility": null,
            "width": null
          }
        },
        "058760c9a93147caa7d28ee4965d0b6e": {
          "model_module": "@jupyter-widgets/controls",
          "model_name": "DescriptionStyleModel",
          "model_module_version": "1.5.0",
          "state": {
            "_model_module": "@jupyter-widgets/controls",
            "_model_module_version": "1.5.0",
            "_model_name": "DescriptionStyleModel",
            "_view_count": null,
            "_view_module": "@jupyter-widgets/base",
            "_view_module_version": "1.2.0",
            "_view_name": "StyleView",
            "description_width": ""
          }
        }
      }
    }
  },
  "cells": [
    {
      "cell_type": "markdown",
      "metadata": {
        "id": "view-in-github",
        "colab_type": "text"
      },
      "source": [
        "<a href=\"https://colab.research.google.com/github/yaminimasand/DINO/blob/main/CV_dino.ipynb\" target=\"_parent\"><img src=\"https://colab.research.google.com/assets/colab-badge.svg\" alt=\"Open In Colab\"/></a>"
      ]
    },
    {
      "cell_type": "code",
      "execution_count": null,
      "metadata": {
        "colab": {
          "base_uri": "https://localhost:8080/"
        },
        "id": "f80033MvV58V",
        "outputId": "0b211428-f54f-46e3-a17f-eb6519bf318e"
      },
      "outputs": [
        {
          "output_type": "stream",
          "name": "stdout",
          "text": [
            "Archive:  Pedestrian_dataset_for_internship_assignment.zip\n",
            "   creating: Pedestrian_dataset_for_internship_assignment/\n",
            "  inflating: __MACOSX/._Pedestrian_dataset_for_internship_assignment  \n",
            "  inflating: Pedestrian_dataset_for_internship_assignment/13199.jpg  \n",
            "  inflating: __MACOSX/Pedestrian_dataset_for_internship_assignment/._13199.jpg  \n",
            "  inflating: Pedestrian_dataset_for_internship_assignment/12046.jpg  \n",
            "  inflating: __MACOSX/Pedestrian_dataset_for_internship_assignment/._12046.jpg  \n",
            "  inflating: Pedestrian_dataset_for_internship_assignment/7440.jpg  \n",
            "  inflating: __MACOSX/Pedestrian_dataset_for_internship_assignment/._7440.jpg  \n",
            "  inflating: Pedestrian_dataset_for_internship_assignment/13984.jpg  \n",
            "  inflating: __MACOSX/Pedestrian_dataset_for_internship_assignment/._13984.jpg  \n",
            "  inflating: Pedestrian_dataset_for_internship_assignment/6213.jpg  \n",
            "  inflating: __MACOSX/Pedestrian_dataset_for_internship_assignment/._6213.jpg  \n",
            "  inflating: Pedestrian_dataset_for_internship_assignment/13211.jpg  \n",
            "  inflating: __MACOSX/Pedestrian_dataset_for_internship_assignment/._13211.jpg  \n",
            "  inflating: Pedestrian_dataset_for_internship_assignment/1024.jpg  \n",
            "  inflating: __MACOSX/Pedestrian_dataset_for_internship_assignment/._1024.jpg  \n",
            "  inflating: Pedestrian_dataset_for_internship_assignment/5336.jpg  \n",
            "  inflating: __MACOSX/Pedestrian_dataset_for_internship_assignment/._5336.jpg  \n",
            "  inflating: Pedestrian_dataset_for_internship_assignment/3237.jpg  \n",
            "  inflating: __MACOSX/Pedestrian_dataset_for_internship_assignment/._3237.jpg  \n",
            "  inflating: Pedestrian_dataset_for_internship_assignment/11002.jpg  \n",
            "  inflating: __MACOSX/Pedestrian_dataset_for_internship_assignment/._11002.jpg  \n",
            "  inflating: Pedestrian_dataset_for_internship_assignment/15306.jpg  \n",
            "  inflating: __MACOSX/Pedestrian_dataset_for_internship_assignment/._15306.jpg  \n",
            "  inflating: Pedestrian_dataset_for_internship_assignment/11613.jpg  \n",
            "  inflating: __MACOSX/Pedestrian_dataset_for_internship_assignment/._11613.jpg  \n",
            "  inflating: Pedestrian_dataset_for_internship_assignment/13038.jpg  \n",
            "  inflating: __MACOSX/Pedestrian_dataset_for_internship_assignment/._13038.jpg  \n",
            "  inflating: Pedestrian_dataset_for_internship_assignment/6576.jpg  \n",
            "  inflating: __MACOSX/Pedestrian_dataset_for_internship_assignment/._6576.jpg  \n",
            "  inflating: Pedestrian_dataset_for_internship_assignment/16154.jpg  \n",
            "  inflating: __MACOSX/Pedestrian_dataset_for_internship_assignment/._16154.jpg  \n",
            "  inflating: Pedestrian_dataset_for_internship_assignment/8765.jpg  \n",
            "  inflating: __MACOSX/Pedestrian_dataset_for_internship_assignment/._8765.jpg  \n",
            "  inflating: Pedestrian_dataset_for_internship_assignment/8836.jpg  \n",
            "  inflating: __MACOSX/Pedestrian_dataset_for_internship_assignment/._8836.jpg  \n",
            "  inflating: Pedestrian_dataset_for_internship_assignment/15703.jpg  \n",
            "  inflating: __MACOSX/Pedestrian_dataset_for_internship_assignment/._15703.jpg  \n",
            "  inflating: Pedestrian_dataset_for_internship_assignment/13164.jpg  \n",
            "  inflating: __MACOSX/Pedestrian_dataset_for_internship_assignment/._13164.jpg  \n",
            "  inflating: Pedestrian_dataset_for_internship_assignment/11987.jpg  \n",
            "  inflating: __MACOSX/Pedestrian_dataset_for_internship_assignment/._11987.jpg  \n",
            "  inflating: Pedestrian_dataset_for_internship_assignment/16030.jpg  \n",
            "  inflating: __MACOSX/Pedestrian_dataset_for_internship_assignment/._16030.jpg  \n",
            "  inflating: Pedestrian_dataset_for_internship_assignment/5866.jpg  \n",
            "  inflating: __MACOSX/Pedestrian_dataset_for_internship_assignment/._5866.jpg  \n",
            "  inflating: Pedestrian_dataset_for_internship_assignment/12040.jpg  \n",
            "  inflating: __MACOSX/Pedestrian_dataset_for_internship_assignment/._12040.jpg  \n",
            "  inflating: Pedestrian_dataset_for_internship_assignment/7320.jpg  \n",
            "  inflating: __MACOSX/Pedestrian_dataset_for_internship_assignment/._7320.jpg  \n",
            "  inflating: Pedestrian_dataset_for_internship_assignment/7452.jpg  \n",
            "  inflating: __MACOSX/Pedestrian_dataset_for_internship_assignment/._7452.jpg  \n",
            "  inflating: Pedestrian_dataset_for_internship_assignment/15303.jpg  \n",
            "  inflating: __MACOSX/Pedestrian_dataset_for_internship_assignment/._15303.jpg  \n",
            "  inflating: Pedestrian_dataset_for_internship_assignment/8563.jpg  \n",
            "  inflating: __MACOSX/Pedestrian_dataset_for_internship_assignment/._8563.jpg  \n",
            "  inflating: Pedestrian_dataset_for_internship_assignment/6215.jpg  \n",
            "  inflating: __MACOSX/Pedestrian_dataset_for_internship_assignment/._6215.jpg  \n",
            "  inflating: Pedestrian_dataset_for_internship_assignment/6229.jpg  \n",
            "  inflating: __MACOSX/Pedestrian_dataset_for_internship_assignment/._6229.jpg  \n",
            "  inflating: Pedestrian_dataset_for_internship_assignment/1234.jpg  \n",
            "  inflating: __MACOSX/Pedestrian_dataset_for_internship_assignment/._1234.jpg  \n",
            "  inflating: Pedestrian_dataset_for_internship_assignment/17065.jpg  \n",
            "  inflating: __MACOSX/Pedestrian_dataset_for_internship_assignment/._17065.jpg  \n",
            "  inflating: Pedestrian_dataset_for_internship_assignment/17677.jpg  \n",
            "  inflating: __MACOSX/Pedestrian_dataset_for_internship_assignment/._17677.jpg  \n",
            "  inflating: Pedestrian_dataset_for_internship_assignment/8416.jpg  \n",
            "  inflating: __MACOSX/Pedestrian_dataset_for_internship_assignment/._8416.jpg  \n",
            "  inflating: Pedestrian_dataset_for_internship_assignment/11004.jpg  \n",
            "  inflating: __MACOSX/Pedestrian_dataset_for_internship_assignment/._11004.jpg  \n",
            "  inflating: Pedestrian_dataset_for_internship_assignment/4238.jpg  \n",
            "  inflating: __MACOSX/Pedestrian_dataset_for_internship_assignment/._4238.jpg  \n",
            "  inflating: Pedestrian_dataset_for_internship_assignment/3557.jpg  \n",
            "  inflating: __MACOSX/Pedestrian_dataset_for_internship_assignment/._3557.jpg  \n",
            "  inflating: Pedestrian_dataset_for_internship_assignment/13836.jpg  \n",
            "  inflating: __MACOSX/Pedestrian_dataset_for_internship_assignment/._13836.jpg  \n",
            "  inflating: Pedestrian_dataset_for_internship_assignment/11953.jpg  \n",
            "  inflating: __MACOSX/Pedestrian_dataset_for_internship_assignment/._11953.jpg  \n",
            "  inflating: Pedestrian_dataset_for_internship_assignment/13995.jpg  \n",
            "  inflating: __MACOSX/Pedestrian_dataset_for_internship_assignment/._13995.jpg  \n",
            "  inflating: Pedestrian_dataset_for_internship_assignment/13957.jpg  \n",
            "  inflating: __MACOSX/Pedestrian_dataset_for_internship_assignment/._13957.jpg  \n",
            "  inflating: Pedestrian_dataset_for_internship_assignment/15329.jpg  \n",
            "  inflating: __MACOSX/Pedestrian_dataset_for_internship_assignment/._15329.jpg  \n",
            "  inflating: Pedestrian_dataset_for_internship_assignment/1960.jpg  \n",
            "  inflating: __MACOSX/Pedestrian_dataset_for_internship_assignment/._1960.jpg  \n",
            "  inflating: Pedestrian_dataset_for_internship_assignment/7450.jpg  \n",
            "  inflating: __MACOSX/Pedestrian_dataset_for_internship_assignment/._7450.jpg  \n",
            "  inflating: Pedestrian_dataset_for_internship_assignment/8763.jpg  \n",
            "  inflating: __MACOSX/Pedestrian_dataset_for_internship_assignment/._8763.jpg  \n",
            "  inflating: Pedestrian_dataset_for_internship_assignment/17066.jpg  \n",
            "  inflating: __MACOSX/Pedestrian_dataset_for_internship_assignment/._17066.jpg  \n",
            "  inflating: Pedestrian_dataset_for_internship_assignment/11588.jpg  \n",
            "  inflating: __MACOSX/Pedestrian_dataset_for_internship_assignment/._11588.jpg  \n",
            "  inflating: Pedestrian_dataset_for_internship_assignment/12056.jpg  \n",
            "  inflating: __MACOSX/Pedestrian_dataset_for_internship_assignment/._12056.jpg  \n",
            "  inflating: Pedestrian_dataset_for_internship_assignment/11563.jpg  \n",
            "  inflating: __MACOSX/Pedestrian_dataset_for_internship_assignment/._11563.jpg  \n",
            "  inflating: Pedestrian_dataset_for_internship_assignment/11946.jpg  \n",
            "  inflating: __MACOSX/Pedestrian_dataset_for_internship_assignment/._11946.jpg  \n",
            "  inflating: Pedestrian_dataset_for_internship_assignment/3568.jpg  \n",
            "  inflating: __MACOSX/Pedestrian_dataset_for_internship_assignment/._3568.jpg  \n",
            "  inflating: Pedestrian_dataset_for_internship_assignment/13176.jpg  \n",
            "  inflating: __MACOSX/Pedestrian_dataset_for_internship_assignment/._13176.jpg  \n",
            "  inflating: Pedestrian_dataset_for_internship_assignment/8466.jpg  \n",
            "  inflating: __MACOSX/Pedestrian_dataset_for_internship_assignment/._8466.jpg  \n",
            "  inflating: Pedestrian_dataset_for_internship_assignment/11909.jpg  \n",
            "  inflating: __MACOSX/Pedestrian_dataset_for_internship_assignment/._11909.jpg  \n",
            "  inflating: Pedestrian_dataset_for_internship_assignment/1898.jpg  \n",
            "  inflating: __MACOSX/Pedestrian_dataset_for_internship_assignment/._1898.jpg  \n",
            "  inflating: Pedestrian_dataset_for_internship_assignment/12970.jpg  \n",
            "  inflating: __MACOSX/Pedestrian_dataset_for_internship_assignment/._12970.jpg  \n",
            "  inflating: Pedestrian_dataset_for_internship_assignment/12964.jpg  \n",
            "  inflating: __MACOSX/Pedestrian_dataset_for_internship_assignment/._12964.jpg  \n",
            "  inflating: Pedestrian_dataset_for_internship_assignment/6932.jpg  \n",
            "  inflating: __MACOSX/Pedestrian_dataset_for_internship_assignment/._6932.jpg  \n",
            "  inflating: Pedestrian_dataset_for_internship_assignment/5744.jpg  \n",
            "  inflating: __MACOSX/Pedestrian_dataset_for_internship_assignment/._5744.jpg  \n",
            "  inflating: Pedestrian_dataset_for_internship_assignment/11100.jpg  \n",
            "  inflating: __MACOSX/Pedestrian_dataset_for_internship_assignment/._11100.jpg  \n",
            "  inflating: Pedestrian_dataset_for_internship_assignment/5963.jpg  \n",
            "  inflating: __MACOSX/Pedestrian_dataset_for_internship_assignment/._5963.jpg  \n",
            "  inflating: Pedestrian_dataset_for_internship_assignment/1287.jpg  \n",
            "  inflating: __MACOSX/Pedestrian_dataset_for_internship_assignment/._1287.jpg  \n",
            "  inflating: Pedestrian_dataset_for_internship_assignment/3485.jpg  \n",
            "  inflating: __MACOSX/Pedestrian_dataset_for_internship_assignment/._3485.jpg  \n",
            "  inflating: Pedestrian_dataset_for_internship_assignment/1292.jpg  \n",
            "  inflating: __MACOSX/Pedestrian_dataset_for_internship_assignment/._1292.jpg  \n",
            "  inflating: Pedestrian_dataset_for_internship_assignment/5235.jpg  \n",
            "  inflating: __MACOSX/Pedestrian_dataset_for_internship_assignment/._5235.jpg  \n",
            "  inflating: Pedestrian_dataset_for_internship_assignment/11303.jpg  \n",
            "  inflating: __MACOSX/Pedestrian_dataset_for_internship_assignment/._11303.jpg  \n",
            "  inflating: Pedestrian_dataset_for_internship_assignment/12018.jpg  \n",
            "  inflating: __MACOSX/Pedestrian_dataset_for_internship_assignment/._12018.jpg  \n",
            "  inflating: Pedestrian_dataset_for_internship_assignment/7224.jpg  \n",
            "  inflating: __MACOSX/Pedestrian_dataset_for_internship_assignment/._7224.jpg  \n",
            "  inflating: Pedestrian_dataset_for_internship_assignment/8471.jpg  \n",
            "  inflating: __MACOSX/Pedestrian_dataset_for_internship_assignment/._8471.jpg  \n",
            "  inflating: Pedestrian_dataset_for_internship_assignment/11088.jpg  \n",
            "  inflating: __MACOSX/Pedestrian_dataset_for_internship_assignment/._11088.jpg  \n",
            "  inflating: Pedestrian_dataset_for_internship_assignment/16268.jpg  \n",
            "  inflating: __MACOSX/Pedestrian_dataset_for_internship_assignment/._16268.jpg  \n",
            "  inflating: Pedestrian_dataset_for_internship_assignment/6879.jpg  \n",
            "  inflating: __MACOSX/Pedestrian_dataset_for_internship_assignment/._6879.jpg  \n",
            "  inflating: Pedestrian_dataset_for_internship_assignment/14251.jpg  \n",
            "  inflating: __MACOSX/Pedestrian_dataset_for_internship_assignment/._14251.jpg  \n",
            "  inflating: Pedestrian_dataset_for_internship_assignment/1904.jpg  \n",
            "  inflating: __MACOSX/Pedestrian_dataset_for_internship_assignment/._1904.jpg  \n",
            "  inflating: Pedestrian_dataset_for_internship_assignment/filenames.txt  \n",
            "  inflating: __MACOSX/Pedestrian_dataset_for_internship_assignment/._filenames.txt  \n",
            "  inflating: Pedestrian_dataset_for_internship_assignment/3478.jpg  \n",
            "  inflating: __MACOSX/Pedestrian_dataset_for_internship_assignment/._3478.jpg  \n",
            "  inflating: Pedestrian_dataset_for_internship_assignment/15628.jpg  \n",
            "  inflating: __MACOSX/Pedestrian_dataset_for_internship_assignment/._15628.jpg  \n",
            "  inflating: Pedestrian_dataset_for_internship_assignment/11248.jpg  \n",
            "  inflating: __MACOSX/Pedestrian_dataset_for_internship_assignment/._11248.jpg  \n",
            "  inflating: Pedestrian_dataset_for_internship_assignment/11937.jpg  \n",
            "  inflating: __MACOSX/Pedestrian_dataset_for_internship_assignment/._11937.jpg  \n",
            "  inflating: Pedestrian_dataset_for_internship_assignment/13842.jpg  \n",
            "  inflating: __MACOSX/Pedestrian_dataset_for_internship_assignment/._13842.jpg  \n",
            "  inflating: Pedestrian_dataset_for_internship_assignment/12989.jpg  \n",
            "  inflating: __MACOSX/Pedestrian_dataset_for_internship_assignment/._12989.jpg  \n",
            "  inflating: Pedestrian_dataset_for_internship_assignment/1083.jpg  \n",
            "  inflating: __MACOSX/Pedestrian_dataset_for_internship_assignment/._1083.jpg  \n",
            "  inflating: Pedestrian_dataset_for_internship_assignment/1901.jpg  \n",
            "  inflating: __MACOSX/Pedestrian_dataset_for_internship_assignment/._1901.jpg  \n",
            "  inflating: Pedestrian_dataset_for_internship_assignment/3333.jpg  \n",
            "  inflating: __MACOSX/Pedestrian_dataset_for_internship_assignment/._3333.jpg  \n",
            "  inflating: Pedestrian_dataset_for_internship_assignment/9178.jpg  \n",
            "  inflating: __MACOSX/Pedestrian_dataset_for_internship_assignment/._9178.jpg  \n",
            "  inflating: Pedestrian_dataset_for_internship_assignment/4312.jpg  \n",
            "  inflating: __MACOSX/Pedestrian_dataset_for_internship_assignment/._4312.jpg  \n",
            "  inflating: Pedestrian_dataset_for_internship_assignment/15348.jpg  \n",
            "  inflating: __MACOSX/Pedestrian_dataset_for_internship_assignment/._15348.jpg  \n",
            "  inflating: Pedestrian_dataset_for_internship_assignment/6276.jpg  \n",
            "  inflating: __MACOSX/Pedestrian_dataset_for_internship_assignment/._6276.jpg  \n",
            "  inflating: Pedestrian_dataset_for_internship_assignment/15349.jpg  \n",
            "  inflating: __MACOSX/Pedestrian_dataset_for_internship_assignment/._15349.jpg  \n",
            "  inflating: Pedestrian_dataset_for_internship_assignment/10999.jpg  \n",
            "  inflating: __MACOSX/Pedestrian_dataset_for_internship_assignment/._10999.jpg  \n",
            "  inflating: Pedestrian_dataset_for_internship_assignment/11265.jpg  \n",
            "  inflating: __MACOSX/Pedestrian_dataset_for_internship_assignment/._11265.jpg  \n",
            "  inflating: Pedestrian_dataset_for_internship_assignment/6458.jpg  \n",
            "  inflating: __MACOSX/Pedestrian_dataset_for_internship_assignment/._6458.jpg  \n",
            "  inflating: Pedestrian_dataset_for_internship_assignment/1335.jpg  \n",
            "  inflating: __MACOSX/Pedestrian_dataset_for_internship_assignment/._1335.jpg  \n",
            "  inflating: Pedestrian_dataset_for_internship_assignment/3293.jpg  \n",
            "  inflating: __MACOSX/Pedestrian_dataset_for_internship_assignment/._3293.jpg  \n",
            "  inflating: Pedestrian_dataset_for_internship_assignment/11267.jpg  \n",
            "  inflating: __MACOSX/Pedestrian_dataset_for_internship_assignment/._11267.jpg  \n",
            "  inflating: Pedestrian_dataset_for_internship_assignment/11273.jpg  \n",
            "  inflating: __MACOSX/Pedestrian_dataset_for_internship_assignment/._11273.jpg  \n",
            "  inflating: Pedestrian_dataset_for_internship_assignment/1254.jpg  \n",
            "  inflating: __MACOSX/Pedestrian_dataset_for_internship_assignment/._1254.jpg  \n",
            "  inflating: Pedestrian_dataset_for_internship_assignment/13511.jpg  \n",
            "  inflating: __MACOSX/Pedestrian_dataset_for_internship_assignment/._13511.jpg  \n",
            "  inflating: Pedestrian_dataset_for_internship_assignment/16253.jpg  \n",
            "  inflating: __MACOSX/Pedestrian_dataset_for_internship_assignment/._16253.jpg  \n",
            "  inflating: Pedestrian_dataset_for_internship_assignment/3512.jpg  \n",
            "  inflating: __MACOSX/Pedestrian_dataset_for_internship_assignment/._3512.jpg  \n",
            "  inflating: Pedestrian_dataset_for_internship_assignment/3328.jpg  \n",
            "  inflating: __MACOSX/Pedestrian_dataset_for_internship_assignment/._3328.jpg  \n",
            "  inflating: Pedestrian_dataset_for_internship_assignment/15353.jpg  \n",
            "  inflating: __MACOSX/Pedestrian_dataset_for_internship_assignment/._15353.jpg  \n",
            "  inflating: Pedestrian_dataset_for_internship_assignment/16128.jpg  \n",
            "  inflating: __MACOSX/Pedestrian_dataset_for_internship_assignment/._16128.jpg  \n",
            "  inflating: Pedestrian_dataset_for_internship_assignment/11281.jpg  \n",
            "  inflating: __MACOSX/Pedestrian_dataset_for_internship_assignment/._11281.jpg  \n",
            "  inflating: Pedestrian_dataset_for_internship_assignment/4242.jpg  \n",
            "  inflating: __MACOSX/Pedestrian_dataset_for_internship_assignment/._4242.jpg  \n",
            "  inflating: Pedestrian_dataset_for_internship_assignment/4295.jpg  \n",
            "  inflating: __MACOSX/Pedestrian_dataset_for_internship_assignment/._4295.jpg  \n",
            "  inflating: Pedestrian_dataset_for_internship_assignment/15581.jpg  \n",
            "  inflating: __MACOSX/Pedestrian_dataset_for_internship_assignment/._15581.jpg  \n",
            "  inflating: Pedestrian_dataset_for_internship_assignment/17143.jpg  \n",
            "  inflating: __MACOSX/Pedestrian_dataset_for_internship_assignment/._17143.jpg  \n",
            "  inflating: Pedestrian_dataset_for_internship_assignment/11297.jpg  \n",
            "  inflating: __MACOSX/Pedestrian_dataset_for_internship_assignment/._11297.jpg  \n",
            "  inflating: Pedestrian_dataset_for_internship_assignment/11283.jpg  \n",
            "  inflating: __MACOSX/Pedestrian_dataset_for_internship_assignment/._11283.jpg  \n",
            "  inflating: Pedestrian_dataset_for_internship_assignment/14264.jpg  \n",
            "  inflating: __MACOSX/Pedestrian_dataset_for_internship_assignment/._14264.jpg  \n",
            "  inflating: Pedestrian_dataset_for_internship_assignment/7367.jpg  \n",
            "  inflating: __MACOSX/Pedestrian_dataset_for_internship_assignment/._7367.jpg  \n",
            "  inflating: Pedestrian_dataset_for_internship_assignment/10957.jpg  \n",
            "  inflating: __MACOSX/Pedestrian_dataset_for_internship_assignment/._10957.jpg  \n",
            "  inflating: Pedestrian_dataset_for_internship_assignment/1298.jpg  \n",
            "  inflating: __MACOSX/Pedestrian_dataset_for_internship_assignment/._1298.jpg  \n",
            "  inflating: Pedestrian_dataset_for_internship_assignment/8531.jpg  \n",
            "  inflating: __MACOSX/Pedestrian_dataset_for_internship_assignment/._8531.jpg  \n",
            "  inflating: Pedestrian_dataset_for_internship_assignment/17156.jpg  \n",
            "  inflating: __MACOSX/Pedestrian_dataset_for_internship_assignment/._17156.jpg  \n",
            "  inflating: Pedestrian_dataset_for_internship_assignment/11080.jpg  \n",
            "  inflating: __MACOSX/Pedestrian_dataset_for_internship_assignment/._11080.jpg  \n",
            "  inflating: Pedestrian_dataset_for_internship_assignment/1313.jpg  \n",
            "  inflating: __MACOSX/Pedestrian_dataset_for_internship_assignment/._1313.jpg  \n",
            "  inflating: Pedestrian_dataset_for_internship_assignment/3504.jpg  \n",
            "  inflating: __MACOSX/Pedestrian_dataset_for_internship_assignment/._3504.jpg  \n",
            "  inflating: Pedestrian_dataset_for_internship_assignment/3276.jpg  \n",
            "  inflating: __MACOSX/Pedestrian_dataset_for_internship_assignment/._3276.jpg  \n",
            "  inflating: Pedestrian_dataset_for_internship_assignment/15584.jpg  \n",
            "  inflating: __MACOSX/Pedestrian_dataset_for_internship_assignment/._15584.jpg  \n",
            "  inflating: Pedestrian_dataset_for_internship_assignment/3299.jpg  \n",
            "  inflating: __MACOSX/Pedestrian_dataset_for_internship_assignment/._3299.jpg  \n",
            "  inflating: Pedestrian_dataset_for_internship_assignment/15962.jpg  \n",
            "  inflating: __MACOSX/Pedestrian_dataset_for_internship_assignment/._15962.jpg  \n",
            "  inflating: Pedestrian_dataset_for_internship_assignment/13526.jpg  \n",
            "  inflating: __MACOSX/Pedestrian_dataset_for_internship_assignment/._13526.jpg  \n",
            "  inflating: Pedestrian_dataset_for_internship_assignment/4333.jpg  \n",
            "  inflating: __MACOSX/Pedestrian_dataset_for_internship_assignment/._4333.jpg  \n",
            "  inflating: Pedestrian_dataset_for_internship_assignment/3449.jpg  \n",
            "  inflating: __MACOSX/Pedestrian_dataset_for_internship_assignment/._3449.jpg  \n",
            "  inflating: Pedestrian_dataset_for_internship_assignment/11318.jpg  \n",
            "  inflating: __MACOSX/Pedestrian_dataset_for_internship_assignment/._11318.jpg  \n",
            "  inflating: Pedestrian_dataset_for_internship_assignment/10990.jpg  \n",
            "  inflating: __MACOSX/Pedestrian_dataset_for_internship_assignment/._10990.jpg  \n",
            "  inflating: Pedestrian_dataset_for_internship_assignment/17033.jpg  \n",
            "  inflating: __MACOSX/Pedestrian_dataset_for_internship_assignment/._17033.jpg  \n",
            "  inflating: Pedestrian_dataset_for_internship_assignment/13533.jpg  \n",
            "  inflating: __MACOSX/Pedestrian_dataset_for_internship_assignment/._13533.jpg  \n",
            "  inflating: Pedestrian_dataset_for_internship_assignment/11324.jpg  \n",
            "  inflating: __MACOSX/Pedestrian_dataset_for_internship_assignment/._11324.jpg  \n",
            "  inflating: Pedestrian_dataset_for_internship_assignment/4285.jpg  \n",
            "  inflating: __MACOSX/Pedestrian_dataset_for_internship_assignment/._4285.jpg  \n",
            "  inflating: Pedestrian_dataset_for_internship_assignment/8468.jpg  \n",
            "  inflating: __MACOSX/Pedestrian_dataset_for_internship_assignment/._8468.jpg  \n",
            "  inflating: Pedestrian_dataset_for_internship_assignment/16065.jpg  \n",
            "  inflating: __MACOSX/Pedestrian_dataset_for_internship_assignment/._16065.jpg  \n",
            "  inflating: Pedestrian_dataset_for_internship_assignment/10986.jpg  \n",
            "  inflating: __MACOSX/Pedestrian_dataset_for_internship_assignment/._10986.jpg  \n",
            "  inflating: Pedestrian_dataset_for_internship_assignment/15342.jpg  \n",
            "  inflating: __MACOSX/Pedestrian_dataset_for_internship_assignment/._15342.jpg  \n",
            "  inflating: Pedestrian_dataset_for_internship_assignment/5952.jpg  \n",
            "  inflating: __MACOSX/Pedestrian_dataset_for_internship_assignment/._5952.jpg  \n",
            "  inflating: Pedestrian_dataset_for_internship_assignment/9167.jpg  \n",
            "  inflating: __MACOSX/Pedestrian_dataset_for_internship_assignment/._9167.jpg  \n",
            "  inflating: Pedestrian_dataset_for_internship_assignment/14049.jpg  \n",
            "  inflating: __MACOSX/Pedestrian_dataset_for_internship_assignment/._14049.jpg  \n",
            "  inflating: Pedestrian_dataset_for_internship_assignment/1088.jpg  \n",
            "  inflating: __MACOSX/Pedestrian_dataset_for_internship_assignment/._1088.jpg  \n",
            "  inflating: Pedestrian_dataset_for_internship_assignment/13518.jpg  \n",
            "  inflating: __MACOSX/Pedestrian_dataset_for_internship_assignment/._13518.jpg  \n",
            "  inflating: Pedestrian_dataset_for_internship_assignment/5359.jpg  \n",
            "  inflating: __MACOSX/Pedestrian_dataset_for_internship_assignment/._5359.jpg  \n",
            "  inflating: Pedestrian_dataset_for_internship_assignment/6334.jpg  \n",
            "  inflating: __MACOSX/Pedestrian_dataset_for_internship_assignment/._6334.jpg  \n",
            "  inflating: Pedestrian_dataset_for_internship_assignment/3516.jpg  \n",
            "  inflating: __MACOSX/Pedestrian_dataset_for_internship_assignment/._3516.jpg  \n",
            "  inflating: Pedestrian_dataset_for_internship_assignment/7002.jpg  \n",
            "  inflating: __MACOSX/Pedestrian_dataset_for_internship_assignment/._7002.jpg  \n",
            "  inflating: Pedestrian_dataset_for_internship_assignment/15278.jpg  \n",
            "  inflating: __MACOSX/Pedestrian_dataset_for_internship_assignment/._15278.jpg  \n",
            "  inflating: Pedestrian_dataset_for_internship_assignment/7065.jpg  \n",
            "  inflating: __MACOSX/Pedestrian_dataset_for_internship_assignment/._7065.jpg  \n",
            "  inflating: Pedestrian_dataset_for_internship_assignment/3571.jpg  \n",
            "  inflating: __MACOSX/Pedestrian_dataset_for_internship_assignment/._3571.jpg  \n",
            "  inflating: Pedestrian_dataset_for_internship_assignment/15287.jpg  \n",
            "  inflating: __MACOSX/Pedestrian_dataset_for_internship_assignment/._15287.jpg  \n",
            "  inflating: Pedestrian_dataset_for_internship_assignment/17679.jpg  \n",
            "  inflating: __MACOSX/Pedestrian_dataset_for_internship_assignment/._17679.jpg  \n",
            "  inflating: Pedestrian_dataset_for_internship_assignment/17137.jpg  \n",
            "  inflating: __MACOSX/Pedestrian_dataset_for_internship_assignment/._17137.jpg  \n",
            "  inflating: Pedestrian_dataset_for_internship_assignment/17645.jpg  \n",
            "  inflating: __MACOSX/Pedestrian_dataset_for_internship_assignment/._17645.jpg  \n",
            "  inflating: Pedestrian_dataset_for_internship_assignment/1038.jpg  \n",
            "  inflating: __MACOSX/Pedestrian_dataset_for_internship_assignment/._1038.jpg  \n",
            "  inflating: Pedestrian_dataset_for_internship_assignment/8791.jpg  \n",
            "  inflating: __MACOSX/Pedestrian_dataset_for_internship_assignment/._8791.jpg  \n",
            "  inflating: Pedestrian_dataset_for_internship_assignment/15330.jpg  \n",
            "  inflating: __MACOSX/Pedestrian_dataset_for_internship_assignment/._15330.jpg  \n",
            "  inflating: Pedestrian_dataset_for_internship_assignment/11630.jpg  \n",
            "  inflating: __MACOSX/Pedestrian_dataset_for_internship_assignment/._11630.jpg  \n",
            "  inflating: Pedestrian_dataset_for_internship_assignment/17526.jpg  \n",
            "  inflating: __MACOSX/Pedestrian_dataset_for_internship_assignment/._17526.jpg  \n",
            "  inflating: Pedestrian_dataset_for_internship_assignment/3438.jpg  \n",
            "  inflating: __MACOSX/Pedestrian_dataset_for_internship_assignment/._3438.jpg  \n",
            "  inflating: Pedestrian_dataset_for_internship_assignment/15319.jpg  \n",
            "  inflating: __MACOSX/Pedestrian_dataset_for_internship_assignment/._15319.jpg  \n",
            "  inflating: Pedestrian_dataset_for_internship_assignment/7474.jpg  \n",
            "  inflating: __MACOSX/Pedestrian_dataset_for_internship_assignment/._7474.jpg  \n",
            "  inflating: Pedestrian_dataset_for_internship_assignment/5263.jpg  \n",
            "  inflating: __MACOSX/Pedestrian_dataset_for_internship_assignment/._5263.jpg  \n",
            "  inflating: Pedestrian_dataset_for_internship_assignment/9317.jpg  \n",
            "  inflating: __MACOSX/Pedestrian_dataset_for_internship_assignment/._9317.jpg  \n",
            "  inflating: Pedestrian_dataset_for_internship_assignment/5303.jpg  \n",
            "  inflating: __MACOSX/Pedestrian_dataset_for_internship_assignment/._5303.jpg  \n",
            "  inflating: Pedestrian_dataset_for_internship_assignment/15292.jpg  \n",
            "  inflating: __MACOSX/Pedestrian_dataset_for_internship_assignment/._15292.jpg  \n",
            "  inflating: Pedestrian_dataset_for_internship_assignment/15286.jpg  \n",
            "  inflating: __MACOSX/Pedestrian_dataset_for_internship_assignment/._15286.jpg  \n",
            "  inflating: Pedestrian_dataset_for_internship_assignment/5665.jpg  \n",
            "  inflating: __MACOSX/Pedestrian_dataset_for_internship_assignment/._5665.jpg  \n",
            "  inflating: Pedestrian_dataset_for_internship_assignment/13187.jpg  \n",
            "  inflating: __MACOSX/Pedestrian_dataset_for_internship_assignment/._13187.jpg  \n",
            "  inflating: Pedestrian_dataset_for_internship_assignment/7310.jpg  \n",
            "  inflating: __MACOSX/Pedestrian_dataset_for_internship_assignment/._7310.jpg  \n",
            "  inflating: Pedestrian_dataset_for_internship_assignment/16160.jpg  \n",
            "  inflating: __MACOSX/Pedestrian_dataset_for_internship_assignment/._16160.jpg  \n",
            "  inflating: Pedestrian_dataset_for_internship_assignment/5704.jpg  \n",
            "  inflating: __MACOSX/Pedestrian_dataset_for_internship_assignment/._5704.jpg  \n",
            "  inflating: Pedestrian_dataset_for_internship_assignment/13031.jpg  \n",
            "  inflating: __MACOSX/Pedestrian_dataset_for_internship_assignment/._13031.jpg  \n",
            "  inflating: Pedestrian_dataset_for_internship_assignment/7477.jpg  \n",
            "  inflating: __MACOSX/Pedestrian_dataset_for_internship_assignment/._7477.jpg  \n",
            "  inflating: Pedestrian_dataset_for_internship_assignment/15656.jpg  \n",
            "  inflating: __MACOSX/Pedestrian_dataset_for_internship_assignment/._15656.jpg  \n",
            "  inflating: Pedestrian_dataset_for_internship_assignment/12918.jpg  \n",
            "  inflating: __MACOSX/Pedestrian_dataset_for_internship_assignment/._12918.jpg  \n",
            "  inflating: Pedestrian_dataset_for_internship_assignment/9260.jpg  \n",
            "  inflating: __MACOSX/Pedestrian_dataset_for_internship_assignment/._9260.jpg  \n",
            "  inflating: Pedestrian_dataset_for_internship_assignment/15285.jpg  \n",
            "  inflating: __MACOSX/Pedestrian_dataset_for_internship_assignment/._15285.jpg  \n",
            "  inflating: Pedestrian_dataset_for_internship_assignment/7063.jpg  \n",
            "  inflating: __MACOSX/Pedestrian_dataset_for_internship_assignment/._7063.jpg  \n",
            "  inflating: Pedestrian_dataset_for_internship_assignment/16213.jpg  \n",
            "  inflating: __MACOSX/Pedestrian_dataset_for_internship_assignment/._16213.jpg  \n",
            "  inflating: Pedestrian_dataset_for_internship_assignment/9304.jpg  \n",
            "  inflating: __MACOSX/Pedestrian_dataset_for_internship_assignment/._9304.jpg  \n",
            "  inflating: Pedestrian_dataset_for_internship_assignment/13579.jpg  \n",
            "  inflating: __MACOSX/Pedestrian_dataset_for_internship_assignment/._13579.jpg  \n",
            "  inflating: Pedestrian_dataset_for_internship_assignment/6962.jpg  \n",
            "  inflating: __MACOSX/Pedestrian_dataset_for_internship_assignment/._6962.jpg  \n",
            "  inflating: Pedestrian_dataset_for_internship_assignment/8556.jpg  \n",
            "  inflating: __MACOSX/Pedestrian_dataset_for_internship_assignment/._8556.jpg  \n",
            "  inflating: Pedestrian_dataset_for_internship_assignment/1229.jpg  \n",
            "  inflating: __MACOSX/Pedestrian_dataset_for_internship_assignment/._1229.jpg  \n",
            "  inflating: Pedestrian_dataset_for_internship_assignment/6977.jpg  \n",
            "  inflating: __MACOSX/Pedestrian_dataset_for_internship_assignment/._6977.jpg  \n",
            "  inflating: Pedestrian_dataset_for_internship_assignment/9339.jpg  \n",
            "  inflating: __MACOSX/Pedestrian_dataset_for_internship_assignment/._9339.jpg  \n",
            "  inflating: Pedestrian_dataset_for_internship_assignment/7466.jpg  \n",
            "  inflating: __MACOSX/Pedestrian_dataset_for_internship_assignment/._7466.jpg  \n",
            "  inflating: Pedestrian_dataset_for_internship_assignment/5339.jpg  \n",
            "  inflating: __MACOSX/Pedestrian_dataset_for_internship_assignment/._5339.jpg  \n",
            "  inflating: Pedestrian_dataset_for_internship_assignment/7262.jpg  \n",
            "  inflating: __MACOSX/Pedestrian_dataset_for_internship_assignment/._7262.jpg  \n",
            "  inflating: Pedestrian_dataset_for_internship_assignment/8810.jpg  \n",
            "  inflating: __MACOSX/Pedestrian_dataset_for_internship_assignment/._8810.jpg  \n",
            "  inflating: Pedestrian_dataset_for_internship_assignment/8757.jpg  \n",
            "  inflating: __MACOSX/Pedestrian_dataset_for_internship_assignment/._8757.jpg  \n",
            "  inflating: Pedestrian_dataset_for_internship_assignment/15679.jpg  \n",
            "  inflating: __MACOSX/Pedestrian_dataset_for_internship_assignment/._15679.jpg  \n",
            "  inflating: Pedestrian_dataset_for_internship_assignment/1997.jpg  \n",
            "  inflating: __MACOSX/Pedestrian_dataset_for_internship_assignment/._1997.jpg  \n",
            "  inflating: Pedestrian_dataset_for_internship_assignment/8794.jpg  \n",
            "  inflating: __MACOSX/Pedestrian_dataset_for_internship_assignment/._8794.jpg  \n",
            "  inflating: Pedestrian_dataset_for_internship_assignment/5298.jpg  \n",
            "  inflating: __MACOSX/Pedestrian_dataset_for_internship_assignment/._5298.jpg  \n",
            "  inflating: Pedestrian_dataset_for_internship_assignment/4347.jpg  \n",
            "  inflating: __MACOSX/Pedestrian_dataset_for_internship_assignment/._4347.jpg  \n",
            "  inflating: Pedestrian_dataset_for_internship_assignment/6222.jpg  \n",
            "  inflating: __MACOSX/Pedestrian_dataset_for_internship_assignment/._6222.jpg  \n",
            "  inflating: Pedestrian_dataset_for_internship_assignment/5918.jpg  \n",
            "  inflating: __MACOSX/Pedestrian_dataset_for_internship_assignment/._5918.jpg  \n",
            "  inflating: Pedestrian_dataset_for_internship_assignment/5931.jpg  \n",
            "  inflating: __MACOSX/Pedestrian_dataset_for_internship_assignment/._5931.jpg  \n",
            "  inflating: Pedestrian_dataset_for_internship_assignment/13553.jpg  \n",
            "  inflating: __MACOSX/Pedestrian_dataset_for_internship_assignment/._13553.jpg  \n",
            "  inflating: Pedestrian_dataset_for_internship_assignment/13547.jpg  \n",
            "  inflating: __MACOSX/Pedestrian_dataset_for_internship_assignment/._13547.jpg  \n",
            "  inflating: Pedestrian_dataset_for_internship_assignment/15297.jpg  \n",
            "  inflating: __MACOSX/Pedestrian_dataset_for_internship_assignment/._15297.jpg  \n",
            "  inflating: Pedestrian_dataset_for_internship_assignment/5879.jpg  \n",
            "  inflating: __MACOSX/Pedestrian_dataset_for_internship_assignment/._5879.jpg  \n",
            "  inflating: Pedestrian_dataset_for_internship_assignment/15283.jpg  \n",
            "  inflating: __MACOSX/Pedestrian_dataset_for_internship_assignment/._15283.jpg  \n"
          ]
        }
      ],
      "source": [
        "!unzip Pedestrian_dataset_for_internship_assignment.zip"
      ]
    },
    {
      "cell_type": "code",
      "source": [
        "import os\n",
        "import numpy as np\n",
        "from sklearn.model_selection import train_test_split\n",
        "from PIL import Image\n"
      ],
      "metadata": {
        "id": "xUYVB0EHW-Zb"
      },
      "execution_count": null,
      "outputs": []
    },
    {
      "cell_type": "code",
      "source": [
        "# Assume the images are stored in a directory called 'images'\n",
        "image_dir =  '/content/Pedestrian_dataset_for_internship_assignment'"
      ],
      "metadata": {
        "id": "OWO-QgWRYqpc"
      },
      "execution_count": null,
      "outputs": []
    },
    {
      "cell_type": "code",
      "source": [
        "def assign_label(filename):\n",
        "    # We can assign labels based on the filename\n",
        "    if 'pedestrian' in filename.lower():\n",
        "        return 0  # Label for 'pedestrian'\n",
        "    else:\n",
        "        return 1  # Label for 'non-pedestrian'\n"
      ],
      "metadata": {
        "id": "fM2DaBXvZH7l"
      },
      "execution_count": null,
      "outputs": []
    },
    {
      "cell_type": "code",
      "source": [
        "# list of image file paths and corresponding labels\n",
        "images = []\n",
        "labels = []\n"
      ],
      "metadata": {
        "id": "B_L2JUGCYwTX"
      },
      "execution_count": null,
      "outputs": []
    },
    {
      "cell_type": "code",
      "source": [
        "for filename in os.listdir(image_dir):\n",
        "    img_path = os.path.join(image_dir, filename)\n",
        "    label = assign_label(filename)\n",
        "    images.append(img_path)\n",
        "    labels.append(label)"
      ],
      "metadata": {
        "id": "sNetieOcZv_W"
      },
      "execution_count": null,
      "outputs": []
    },
    {
      "cell_type": "code",
      "source": [
        "# Convert the lists to numpy arrays\n",
        "images = np.array(images)\n",
        "labels = np.array(labels)\n"
      ],
      "metadata": {
        "id": "gZRmeavTYwV6"
      },
      "execution_count": null,
      "outputs": []
    },
    {
      "cell_type": "code",
      "source": [
        "# Split the dataset into training and validation sets\n",
        "train_images, val_images, train_labels, val_labels = train_test_split(images, labels, test_size=0.2, random_state=42)"
      ],
      "metadata": {
        "id": "qhPF7vpEYwYO"
      },
      "execution_count": null,
      "outputs": []
    },
    {
      "cell_type": "code",
      "source": [
        "print(\"Training set size:\", len(train_images))\n",
        "print(\"Validation set size:\", len(val_images))"
      ],
      "metadata": {
        "colab": {
          "base_uri": "https://localhost:8080/"
        },
        "id": "c1pWbRMyYwaG",
        "outputId": "d28aec16-1990-4a9f-b0b5-24d75b8029c6"
      },
      "execution_count": null,
      "outputs": [
        {
          "output_type": "stream",
          "name": "stdout",
          "text": [
            "Training set size: 161\n",
            "Validation set size: 41\n"
          ]
        }
      ]
    },
    {
      "cell_type": "code",
      "source": [
        "!git clone https://github.com/IDEA-Research/DINO.git"
      ],
      "metadata": {
        "colab": {
          "base_uri": "https://localhost:8080/"
        },
        "id": "VtRrKva6dEMu",
        "outputId": "8dd7a10f-2bf8-46ed-e458-30d6a428c1e6"
      },
      "execution_count": null,
      "outputs": [
        {
          "output_type": "stream",
          "name": "stdout",
          "text": [
            "Cloning into 'DINO'...\n",
            "remote: Enumerating objects: 442, done.\u001b[K\n",
            "remote: Counting objects: 100% (191/191), done.\u001b[K\n",
            "remote: Compressing objects: 100% (95/95), done.\u001b[K\n",
            "remote: Total 442 (delta 136), reused 96 (delta 96), pack-reused 251 (from 1)\u001b[K\n",
            "Receiving objects: 100% (442/442), 13.43 MiB | 16.86 MiB/s, done.\n",
            "Resolving deltas: 100% (191/191), done.\n"
          ]
        }
      ]
    },
    {
      "cell_type": "code",
      "source": [
        "%cd DINO"
      ],
      "metadata": {
        "colab": {
          "base_uri": "https://localhost:8080/"
        },
        "id": "XtzAIsb8Ywdh",
        "outputId": "9f883b36-39f1-496b-b4fb-0ae05372f239"
      },
      "execution_count": null,
      "outputs": [
        {
          "output_type": "stream",
          "name": "stdout",
          "text": [
            "/content/DINO\n"
          ]
        }
      ]
    },
    {
      "cell_type": "code",
      "source": [
        "!pip install -r requirements.txt"
      ],
      "metadata": {
        "colab": {
          "base_uri": "https://localhost:8080/"
        },
        "id": "KZF0loOLeB7V",
        "outputId": "2652eace-3372-462f-e069-372040097d1f"
      },
      "execution_count": null,
      "outputs": [
        {
          "output_type": "stream",
          "name": "stdout",
          "text": [
            "Collecting pycocotools (from -r requirements.txt (line 2))\n",
            "  Cloning https://github.com/cocodataset/cocoapi.git to /tmp/pip-install-xjgq47p_/pycocotools_862b51c2536243eb84e347c591c409a0\n",
            "  Running command git clone --filter=blob:none --quiet https://github.com/cocodataset/cocoapi.git /tmp/pip-install-xjgq47p_/pycocotools_862b51c2536243eb84e347c591c409a0\n",
            "  Resolved https://github.com/cocodataset/cocoapi.git to commit 8c9bcc3cf640524c4c20a9c40e89cb6a2f2fa0e9\n",
            "  Preparing metadata (setup.py) ... \u001b[?25l\u001b[?25hdone\n",
            "Collecting panopticapi (from -r requirements.txt (line 6))\n",
            "  Cloning https://github.com/cocodataset/panopticapi.git to /tmp/pip-install-xjgq47p_/panopticapi_f505187f2338481eb733f4df03f73142\n",
            "  Running command git clone --filter=blob:none --quiet https://github.com/cocodataset/panopticapi.git /tmp/pip-install-xjgq47p_/panopticapi_f505187f2338481eb733f4df03f73142\n",
            "  Resolved https://github.com/cocodataset/panopticapi.git to commit 7bb4655548f98f3fedc07bf37e9040a992b054b0\n",
            "  Preparing metadata (setup.py) ... \u001b[?25l\u001b[?25hdone\n",
            "Requirement already satisfied: cython in /usr/local/lib/python3.10/dist-packages (from -r requirements.txt (line 1)) (3.0.11)\n",
            "Requirement already satisfied: submitit in /usr/local/lib/python3.10/dist-packages (from -r requirements.txt (line 3)) (1.5.2)\n",
            "Requirement already satisfied: torch>=1.5.0 in /usr/local/lib/python3.10/dist-packages (from -r requirements.txt (line 4)) (2.4.1+cu121)\n",
            "Requirement already satisfied: torchvision>=0.6.0 in /usr/local/lib/python3.10/dist-packages (from -r requirements.txt (line 5)) (0.19.1+cu121)\n",
            "Requirement already satisfied: scipy in /usr/local/lib/python3.10/dist-packages (from -r requirements.txt (line 7)) (1.13.1)\n",
            "Requirement already satisfied: termcolor in /usr/local/lib/python3.10/dist-packages (from -r requirements.txt (line 8)) (2.4.0)\n",
            "Requirement already satisfied: addict in /usr/local/lib/python3.10/dist-packages (from -r requirements.txt (line 9)) (2.4.0)\n",
            "Requirement already satisfied: yapf in /usr/local/lib/python3.10/dist-packages (from -r requirements.txt (line 10)) (0.40.2)\n",
            "Requirement already satisfied: timm in /usr/local/lib/python3.10/dist-packages (from -r requirements.txt (line 11)) (1.0.9)\n",
            "Requirement already satisfied: setuptools>=18.0 in /usr/local/lib/python3.10/dist-packages (from pycocotools->-r requirements.txt (line 2)) (71.0.4)\n",
            "Requirement already satisfied: matplotlib>=2.1.0 in /usr/local/lib/python3.10/dist-packages (from pycocotools->-r requirements.txt (line 2)) (3.7.1)\n",
            "Requirement already satisfied: cloudpickle>=1.2.1 in /usr/local/lib/python3.10/dist-packages (from submitit->-r requirements.txt (line 3)) (2.2.1)\n",
            "Requirement already satisfied: typing_extensions>=3.7.4.2 in /usr/local/lib/python3.10/dist-packages (from submitit->-r requirements.txt (line 3)) (4.12.2)\n",
            "Requirement already satisfied: filelock in /usr/local/lib/python3.10/dist-packages (from torch>=1.5.0->-r requirements.txt (line 4)) (3.16.1)\n",
            "Requirement already satisfied: sympy in /usr/local/lib/python3.10/dist-packages (from torch>=1.5.0->-r requirements.txt (line 4)) (1.13.3)\n",
            "Requirement already satisfied: networkx in /usr/local/lib/python3.10/dist-packages (from torch>=1.5.0->-r requirements.txt (line 4)) (3.3)\n",
            "Requirement already satisfied: jinja2 in /usr/local/lib/python3.10/dist-packages (from torch>=1.5.0->-r requirements.txt (line 4)) (3.1.4)\n",
            "Requirement already satisfied: fsspec in /usr/local/lib/python3.10/dist-packages (from torch>=1.5.0->-r requirements.txt (line 4)) (2024.6.1)\n",
            "Requirement already satisfied: numpy in /usr/local/lib/python3.10/dist-packages (from torchvision>=0.6.0->-r requirements.txt (line 5)) (1.26.4)\n",
            "Requirement already satisfied: pillow!=8.3.*,>=5.3.0 in /usr/local/lib/python3.10/dist-packages (from torchvision>=0.6.0->-r requirements.txt (line 5)) (10.4.0)\n",
            "Requirement already satisfied: importlib-metadata>=6.6.0 in /usr/local/lib/python3.10/dist-packages (from yapf->-r requirements.txt (line 10)) (8.5.0)\n",
            "Requirement already satisfied: platformdirs>=3.5.1 in /usr/local/lib/python3.10/dist-packages (from yapf->-r requirements.txt (line 10)) (4.3.6)\n",
            "Requirement already satisfied: tomli>=2.0.1 in /usr/local/lib/python3.10/dist-packages (from yapf->-r requirements.txt (line 10)) (2.0.1)\n",
            "Requirement already satisfied: pyyaml in /usr/local/lib/python3.10/dist-packages (from timm->-r requirements.txt (line 11)) (6.0.2)\n",
            "Requirement already satisfied: huggingface_hub in /usr/local/lib/python3.10/dist-packages (from timm->-r requirements.txt (line 11)) (0.24.7)\n",
            "Requirement already satisfied: safetensors in /usr/local/lib/python3.10/dist-packages (from timm->-r requirements.txt (line 11)) (0.4.5)\n",
            "Requirement already satisfied: zipp>=3.20 in /usr/local/lib/python3.10/dist-packages (from importlib-metadata>=6.6.0->yapf->-r requirements.txt (line 10)) (3.20.2)\n",
            "Requirement already satisfied: contourpy>=1.0.1 in /usr/local/lib/python3.10/dist-packages (from matplotlib>=2.1.0->pycocotools->-r requirements.txt (line 2)) (1.3.0)\n",
            "Requirement already satisfied: cycler>=0.10 in /usr/local/lib/python3.10/dist-packages (from matplotlib>=2.1.0->pycocotools->-r requirements.txt (line 2)) (0.12.1)\n",
            "Requirement already satisfied: fonttools>=4.22.0 in /usr/local/lib/python3.10/dist-packages (from matplotlib>=2.1.0->pycocotools->-r requirements.txt (line 2)) (4.53.1)\n",
            "Requirement already satisfied: kiwisolver>=1.0.1 in /usr/local/lib/python3.10/dist-packages (from matplotlib>=2.1.0->pycocotools->-r requirements.txt (line 2)) (1.4.7)\n",
            "Requirement already satisfied: packaging>=20.0 in /usr/local/lib/python3.10/dist-packages (from matplotlib>=2.1.0->pycocotools->-r requirements.txt (line 2)) (24.1)\n",
            "Requirement already satisfied: pyparsing>=2.3.1 in /usr/local/lib/python3.10/dist-packages (from matplotlib>=2.1.0->pycocotools->-r requirements.txt (line 2)) (3.1.4)\n",
            "Requirement already satisfied: python-dateutil>=2.7 in /usr/local/lib/python3.10/dist-packages (from matplotlib>=2.1.0->pycocotools->-r requirements.txt (line 2)) (2.8.2)\n",
            "Requirement already satisfied: requests in /usr/local/lib/python3.10/dist-packages (from huggingface_hub->timm->-r requirements.txt (line 11)) (2.32.3)\n",
            "Requirement already satisfied: tqdm>=4.42.1 in /usr/local/lib/python3.10/dist-packages (from huggingface_hub->timm->-r requirements.txt (line 11)) (4.66.5)\n",
            "Requirement already satisfied: MarkupSafe>=2.0 in /usr/local/lib/python3.10/dist-packages (from jinja2->torch>=1.5.0->-r requirements.txt (line 4)) (2.1.5)\n",
            "Requirement already satisfied: mpmath<1.4,>=1.1.0 in /usr/local/lib/python3.10/dist-packages (from sympy->torch>=1.5.0->-r requirements.txt (line 4)) (1.3.0)\n",
            "Requirement already satisfied: six>=1.5 in /usr/local/lib/python3.10/dist-packages (from python-dateutil>=2.7->matplotlib>=2.1.0->pycocotools->-r requirements.txt (line 2)) (1.16.0)\n",
            "Requirement already satisfied: charset-normalizer<4,>=2 in /usr/local/lib/python3.10/dist-packages (from requests->huggingface_hub->timm->-r requirements.txt (line 11)) (3.3.2)\n",
            "Requirement already satisfied: idna<4,>=2.5 in /usr/local/lib/python3.10/dist-packages (from requests->huggingface_hub->timm->-r requirements.txt (line 11)) (3.10)\n",
            "Requirement already satisfied: urllib3<3,>=1.21.1 in /usr/local/lib/python3.10/dist-packages (from requests->huggingface_hub->timm->-r requirements.txt (line 11)) (2.2.3)\n",
            "Requirement already satisfied: certifi>=2017.4.17 in /usr/local/lib/python3.10/dist-packages (from requests->huggingface_hub->timm->-r requirements.txt (line 11)) (2024.8.30)\n"
          ]
        }
      ]
    },
    {
      "cell_type": "code",
      "source": [
        "import torch"
      ],
      "metadata": {
        "id": "80J7OHAPeB37"
      },
      "execution_count": null,
      "outputs": []
    },
    {
      "cell_type": "code",
      "source": [
        "!pip install dino"
      ],
      "metadata": {
        "colab": {
          "base_uri": "https://localhost:8080/"
        },
        "id": "gZJ0WQXMsUi4",
        "outputId": "543e6388-98e0-4e9c-cb8c-943759f7ccbd"
      },
      "execution_count": null,
      "outputs": [
        {
          "output_type": "stream",
          "name": "stdout",
          "text": [
            "Collecting dino\n",
            "  Downloading dino-0.0.6-py3-none-any.whl.metadata (1.5 kB)\n",
            "Requirement already satisfied: requests in /usr/local/lib/python3.10/dist-packages (from dino) (2.32.3)\n",
            "Requirement already satisfied: pandas in /usr/local/lib/python3.10/dist-packages (from dino) (2.1.4)\n",
            "Requirement already satisfied: numpy<2,>=1.22.4 in /usr/local/lib/python3.10/dist-packages (from pandas->dino) (1.26.4)\n",
            "Requirement already satisfied: python-dateutil>=2.8.2 in /usr/local/lib/python3.10/dist-packages (from pandas->dino) (2.8.2)\n",
            "Requirement already satisfied: pytz>=2020.1 in /usr/local/lib/python3.10/dist-packages (from pandas->dino) (2024.2)\n",
            "Requirement already satisfied: tzdata>=2022.1 in /usr/local/lib/python3.10/dist-packages (from pandas->dino) (2024.1)\n",
            "Requirement already satisfied: charset-normalizer<4,>=2 in /usr/local/lib/python3.10/dist-packages (from requests->dino) (3.3.2)\n",
            "Requirement already satisfied: idna<4,>=2.5 in /usr/local/lib/python3.10/dist-packages (from requests->dino) (3.10)\n",
            "Requirement already satisfied: urllib3<3,>=1.21.1 in /usr/local/lib/python3.10/dist-packages (from requests->dino) (2.2.3)\n",
            "Requirement already satisfied: certifi>=2017.4.17 in /usr/local/lib/python3.10/dist-packages (from requests->dino) (2024.8.30)\n",
            "Requirement already satisfied: six>=1.5 in /usr/local/lib/python3.10/dist-packages (from python-dateutil>=2.8.2->pandas->dino) (1.16.0)\n",
            "Downloading dino-0.0.6-py3-none-any.whl (4.0 kB)\n",
            "Installing collected packages: dino\n",
            "Successfully installed dino-0.0.6\n"
          ]
        }
      ]
    },
    {
      "cell_type": "code",
      "source": [
        "import torch\n",
        "from torchvision import models"
      ],
      "metadata": {
        "id": "xGO7nK1VtYUr"
      },
      "execution_count": null,
      "outputs": []
    },
    {
      "cell_type": "code",
      "source": [
        "model = models.resnet50()"
      ],
      "metadata": {
        "id": "34HyzZ4EtZ-o"
      },
      "execution_count": null,
      "outputs": []
    },
    {
      "cell_type": "code",
      "source": [
        "checkpoint = torch.load(\"/content/DINO/logs/DINO/R50-MS4-%j.pth\", map_location=torch.device('cpu'))"
      ],
      "metadata": {
        "id": "gfXO0FI60V5W"
      },
      "execution_count": null,
      "outputs": []
    },
    {
      "cell_type": "code",
      "source": [
        "model.load_state_dict(checkpoint, strict=False)"
      ],
      "metadata": {
        "id": "M0oDRbAm0V16"
      },
      "execution_count": null,
      "outputs": []
    },
    {
      "cell_type": "code",
      "source": [
        "model.eval()"
      ],
      "metadata": {
        "id": "ZnDiDRy40gby"
      },
      "execution_count": null,
      "outputs": []
    },
    {
      "cell_type": "code",
      "source": [
        "!pip install gdown"
      ],
      "metadata": {
        "colab": {
          "base_uri": "https://localhost:8080/"
        },
        "id": "159WeAJhiEaA",
        "outputId": "00c8123a-aa30-4eac-e8c4-365208a12528"
      },
      "execution_count": null,
      "outputs": [
        {
          "output_type": "stream",
          "name": "stdout",
          "text": [
            "Requirement already satisfied: gdown in /usr/local/lib/python3.10/dist-packages (5.2.0)\n",
            "Requirement already satisfied: beautifulsoup4 in /usr/local/lib/python3.10/dist-packages (from gdown) (4.12.3)\n",
            "Requirement already satisfied: filelock in /usr/local/lib/python3.10/dist-packages (from gdown) (3.16.1)\n",
            "Requirement already satisfied: requests[socks] in /usr/local/lib/python3.10/dist-packages (from gdown) (2.32.3)\n",
            "Requirement already satisfied: tqdm in /usr/local/lib/python3.10/dist-packages (from gdown) (4.66.5)\n",
            "Requirement already satisfied: soupsieve>1.2 in /usr/local/lib/python3.10/dist-packages (from beautifulsoup4->gdown) (2.6)\n",
            "Requirement already satisfied: charset-normalizer<4,>=2 in /usr/local/lib/python3.10/dist-packages (from requests[socks]->gdown) (3.3.2)\n",
            "Requirement already satisfied: idna<4,>=2.5 in /usr/local/lib/python3.10/dist-packages (from requests[socks]->gdown) (3.10)\n",
            "Requirement already satisfied: urllib3<3,>=1.21.1 in /usr/local/lib/python3.10/dist-packages (from requests[socks]->gdown) (2.2.3)\n",
            "Requirement already satisfied: certifi>=2017.4.17 in /usr/local/lib/python3.10/dist-packages (from requests[socks]->gdown) (2024.8.30)\n",
            "Requirement already satisfied: PySocks!=1.5.7,>=1.5.6 in /usr/local/lib/python3.10/dist-packages (from requests[socks]->gdown) (1.7.1)\n"
          ]
        }
      ]
    },
    {
      "cell_type": "code",
      "source": [
        "!gdown https://drive.google.com/drive/folders/1LrH68UBI9taubHQzhDf3R8gjFP8IiqJO.pth\n"
      ],
      "metadata": {
        "colab": {
          "base_uri": "https://localhost:8080/"
        },
        "id": "nuMZ3XG5iEWj",
        "outputId": "c82abb30-87f2-4657-fd08-bd46d4f65799"
      },
      "execution_count": null,
      "outputs": [
        {
          "output_type": "stream",
          "name": "stdout",
          "text": [
            "/usr/local/lib/python3.10/dist-packages/gdown/parse_url.py:48: UserWarning: You specified a Google Drive link that is not the correct link to download a file. You might want to try `--fuzzy` option or the following url: https://drive.google.com/uc?id=None\n",
            "  warnings.warn(\n",
            "Downloading...\n",
            "From: https://drive.google.com/drive/folders/1LrH68UBI9taubHQzhDf3R8gjFP8IiqJO.pth\n",
            "To: /content/DINO/1LrH68UBI9taubHQzhDf3R8gjFP8IiqJO.pth\n",
            "1.18MB [00:00, 78.1MB/s]\n"
          ]
        }
      ]
    },
    {
      "cell_type": "code",
      "source": [
        "!gdown https://drive.google.com/drive/folders/1qD5m1NmK0kjE5hh-G17XUX751WsEG-h_"
      ],
      "metadata": {
        "colab": {
          "base_uri": "https://localhost:8080/"
        },
        "id": "QkhXfOELlZIW",
        "outputId": "e68cc697-8545-4272-df2e-f13feb228786"
      },
      "execution_count": null,
      "outputs": [
        {
          "output_type": "stream",
          "name": "stdout",
          "text": [
            "/usr/local/lib/python3.10/dist-packages/gdown/parse_url.py:48: UserWarning: You specified a Google Drive link that is not the correct link to download a file. You might want to try `--fuzzy` option or the following url: https://drive.google.com/uc?id=None\n",
            "  warnings.warn(\n",
            "Downloading...\n",
            "From: https://drive.google.com/drive/folders/1qD5m1NmK0kjE5hh-G17XUX751WsEG-h_\n",
            "To: /content/DINO/1qD5m1NmK0kjE5hh-G17XUX751WsEG-h_\n",
            "1.18MB [00:00, 76.1MB/s]\n"
          ]
        }
      ]
    },
    {
      "cell_type": "code",
      "source": [
        "!bash scripts/DINO_eval.sh /content/drive/MyDrive/your_COCODIR /content/dino/DINO/logs"
      ],
      "metadata": {
        "colab": {
          "base_uri": "https://localhost:8080/"
        },
        "id": "v5OrNex9ljLR",
        "outputId": "825ead75-0e09-4d71-ff0e-78a83856dbb2"
      },
      "execution_count": null,
      "outputs": [
        {
          "output_type": "stream",
          "name": "stdout",
          "text": [
            "Not using distributed mode\n",
            "Loading config file from config/DINO/DINO_4scale.py\n",
            "Traceback (most recent call last):\n",
            "  File \"/content/DINO/main.py\", line 388, in <module>\n",
            "    main(args)\n",
            "  File \"/content/DINO/main.py\", line 96, in main\n",
            "    cfg.dump(save_cfg_path)\n",
            "  File \"/content/DINO/util/slconfig.py\", line 363, in dump\n",
            "    f.write(self.pretty_text)\n",
            "  File \"/content/DINO/util/slconfig.py\", line 317, in pretty_text\n",
            "    text, _ = FormatCode(text, style_config=yapf_style, verify=True)\n",
            "TypeError: FormatCode() got an unexpected keyword argument 'verify'\n"
          ]
        }
      ]
    },
    {
      "cell_type": "code",
      "source": [
        "!pip install datasets --upgrade"
      ],
      "metadata": {
        "id": "y6yPLQZiSUoD",
        "outputId": "b2ba4271-bac0-4415-cb1e-9852e937276e",
        "colab": {
          "base_uri": "https://localhost:8080/",
          "height": 1000
        }
      },
      "execution_count": null,
      "outputs": [
        {
          "output_type": "stream",
          "name": "stdout",
          "text": [
            "Collecting datasets\n",
            "  Downloading datasets-3.0.0-py3-none-any.whl.metadata (19 kB)\n",
            "Requirement already satisfied: filelock in /usr/local/lib/python3.10/dist-packages (from datasets) (3.16.1)\n",
            "Requirement already satisfied: numpy>=1.17 in /usr/local/lib/python3.10/dist-packages (from datasets) (1.26.4)\n",
            "Collecting pyarrow>=15.0.0 (from datasets)\n",
            "  Downloading pyarrow-17.0.0-cp310-cp310-manylinux_2_28_x86_64.whl.metadata (3.3 kB)\n",
            "Collecting dill<0.3.9,>=0.3.0 (from datasets)\n",
            "  Downloading dill-0.3.8-py3-none-any.whl.metadata (10 kB)\n",
            "Requirement already satisfied: pandas in /usr/local/lib/python3.10/dist-packages (from datasets) (2.1.4)\n",
            "Requirement already satisfied: requests>=2.32.2 in /usr/local/lib/python3.10/dist-packages (from datasets) (2.32.3)\n",
            "Requirement already satisfied: tqdm>=4.66.3 in /usr/local/lib/python3.10/dist-packages (from datasets) (4.66.5)\n",
            "Collecting xxhash (from datasets)\n",
            "  Downloading xxhash-3.5.0-cp310-cp310-manylinux_2_17_x86_64.manylinux2014_x86_64.whl.metadata (12 kB)\n",
            "Collecting multiprocess (from datasets)\n",
            "  Downloading multiprocess-0.70.16-py310-none-any.whl.metadata (7.2 kB)\n",
            "Requirement already satisfied: fsspec<=2024.6.1,>=2023.1.0 in /usr/local/lib/python3.10/dist-packages (from fsspec[http]<=2024.6.1,>=2023.1.0->datasets) (2024.6.1)\n",
            "Requirement already satisfied: aiohttp in /usr/local/lib/python3.10/dist-packages (from datasets) (3.10.5)\n",
            "Requirement already satisfied: huggingface-hub>=0.22.0 in /usr/local/lib/python3.10/dist-packages (from datasets) (0.24.7)\n",
            "Requirement already satisfied: packaging in /usr/local/lib/python3.10/dist-packages (from datasets) (24.1)\n",
            "Requirement already satisfied: pyyaml>=5.1 in /usr/local/lib/python3.10/dist-packages (from datasets) (6.0.2)\n",
            "Requirement already satisfied: aiohappyeyeballs>=2.3.0 in /usr/local/lib/python3.10/dist-packages (from aiohttp->datasets) (2.4.0)\n",
            "Requirement already satisfied: aiosignal>=1.1.2 in /usr/local/lib/python3.10/dist-packages (from aiohttp->datasets) (1.3.1)\n",
            "Requirement already satisfied: attrs>=17.3.0 in /usr/local/lib/python3.10/dist-packages (from aiohttp->datasets) (24.2.0)\n",
            "Requirement already satisfied: frozenlist>=1.1.1 in /usr/local/lib/python3.10/dist-packages (from aiohttp->datasets) (1.4.1)\n",
            "Requirement already satisfied: multidict<7.0,>=4.5 in /usr/local/lib/python3.10/dist-packages (from aiohttp->datasets) (6.1.0)\n",
            "Requirement already satisfied: yarl<2.0,>=1.0 in /usr/local/lib/python3.10/dist-packages (from aiohttp->datasets) (1.11.1)\n",
            "Requirement already satisfied: async-timeout<5.0,>=4.0 in /usr/local/lib/python3.10/dist-packages (from aiohttp->datasets) (4.0.3)\n",
            "Requirement already satisfied: typing-extensions>=3.7.4.3 in /usr/local/lib/python3.10/dist-packages (from huggingface-hub>=0.22.0->datasets) (4.12.2)\n",
            "Requirement already satisfied: charset-normalizer<4,>=2 in /usr/local/lib/python3.10/dist-packages (from requests>=2.32.2->datasets) (3.3.2)\n",
            "Requirement already satisfied: idna<4,>=2.5 in /usr/local/lib/python3.10/dist-packages (from requests>=2.32.2->datasets) (3.10)\n",
            "Requirement already satisfied: urllib3<3,>=1.21.1 in /usr/local/lib/python3.10/dist-packages (from requests>=2.32.2->datasets) (2.2.3)\n",
            "Requirement already satisfied: certifi>=2017.4.17 in /usr/local/lib/python3.10/dist-packages (from requests>=2.32.2->datasets) (2024.8.30)\n",
            "Requirement already satisfied: python-dateutil>=2.8.2 in /usr/local/lib/python3.10/dist-packages (from pandas->datasets) (2.8.2)\n",
            "Requirement already satisfied: pytz>=2020.1 in /usr/local/lib/python3.10/dist-packages (from pandas->datasets) (2024.2)\n",
            "Requirement already satisfied: tzdata>=2022.1 in /usr/local/lib/python3.10/dist-packages (from pandas->datasets) (2024.1)\n",
            "Requirement already satisfied: six>=1.5 in /usr/local/lib/python3.10/dist-packages (from python-dateutil>=2.8.2->pandas->datasets) (1.16.0)\n",
            "Downloading datasets-3.0.0-py3-none-any.whl (474 kB)\n",
            "\u001b[2K   \u001b[90m━━━━━━━━━━━━━━━━━━━━━━━━━━━━━━━━━━━━━━━━\u001b[0m \u001b[32m474.3/474.3 kB\u001b[0m \u001b[31m9.2 MB/s\u001b[0m eta \u001b[36m0:00:00\u001b[0m\n",
            "\u001b[?25hDownloading dill-0.3.8-py3-none-any.whl (116 kB)\n",
            "\u001b[2K   \u001b[90m━━━━━━━━━━━━━━━━━━━━━━━━━━━━━━━━━━━━━━━━\u001b[0m \u001b[32m116.3/116.3 kB\u001b[0m \u001b[31m8.2 MB/s\u001b[0m eta \u001b[36m0:00:00\u001b[0m\n",
            "\u001b[?25hDownloading pyarrow-17.0.0-cp310-cp310-manylinux_2_28_x86_64.whl (39.9 MB)\n",
            "\u001b[2K   \u001b[90m━━━━━━━━━━━━━━━━━━━━━━━━━━━━━━━━━━━━━━━━\u001b[0m \u001b[32m39.9/39.9 MB\u001b[0m \u001b[31m36.2 MB/s\u001b[0m eta \u001b[36m0:00:00\u001b[0m\n",
            "\u001b[?25hDownloading multiprocess-0.70.16-py310-none-any.whl (134 kB)\n",
            "\u001b[2K   \u001b[90m━━━━━━━━━━━━━━━━━━━━━━━━━━━━━━━━━━━━━━━━\u001b[0m \u001b[32m134.8/134.8 kB\u001b[0m \u001b[31m9.2 MB/s\u001b[0m eta \u001b[36m0:00:00\u001b[0m\n",
            "\u001b[?25hDownloading xxhash-3.5.0-cp310-cp310-manylinux_2_17_x86_64.manylinux2014_x86_64.whl (194 kB)\n",
            "\u001b[2K   \u001b[90m━━━━━━━━━━━━━━━━━━━━━━━━━━━━━━━━━━━━━━━━\u001b[0m \u001b[32m194.1/194.1 kB\u001b[0m \u001b[31m13.3 MB/s\u001b[0m eta \u001b[36m0:00:00\u001b[0m\n",
            "\u001b[?25hInstalling collected packages: xxhash, pyarrow, dill, multiprocess, datasets\n",
            "  Attempting uninstall: pyarrow\n",
            "    Found existing installation: pyarrow 14.0.2\n",
            "    Uninstalling pyarrow-14.0.2:\n",
            "      Successfully uninstalled pyarrow-14.0.2\n",
            "\u001b[31mERROR: pip's dependency resolver does not currently take into account all the packages that are installed. This behaviour is the source of the following dependency conflicts.\n",
            "cudf-cu12 24.4.1 requires pyarrow<15.0.0a0,>=14.0.1, but you have pyarrow 17.0.0 which is incompatible.\n",
            "ibis-framework 8.0.0 requires pyarrow<16,>=2, but you have pyarrow 17.0.0 which is incompatible.\u001b[0m\u001b[31m\n",
            "\u001b[0mSuccessfully installed datasets-3.0.0 dill-0.3.8 multiprocess-0.70.16 pyarrow-17.0.0 xxhash-3.5.0\n"
          ]
        },
        {
          "output_type": "display_data",
          "data": {
            "application/vnd.colab-display-data+json": {
              "pip_warning": {
                "packages": [
                  "pyarrow"
                ]
              },
              "id": "02d561f8b3d34e4fb10fad91d25f0675"
            }
          },
          "metadata": {}
        }
      ]
    },
    {
      "cell_type": "code",
      "source": [
        "import tensorflow_datasets as tfds\n"
      ],
      "metadata": {
        "id": "0XZ_j4ugljHx"
      },
      "execution_count": null,
      "outputs": []
    },
    {
      "cell_type": "code",
      "source": [
        "dataset = tfds.load('coco/2017')\n"
      ],
      "metadata": {
        "colab": {
          "base_uri": "https://localhost:8080/",
          "height": 168,
          "referenced_widgets": [
            "2fb100f730ee4e31a9bbc331bfc50f9a",
            "50335c196633499f957a150a5e014fba",
            "f9488aa279734cbda24e383788e311b1",
            "08027b65d5d6432aa94c6a23fe5e8a13",
            "62fd09b2bca14afbaa45d39c96016160",
            "e2d4524e863f448e8d56d080ceec82c8",
            "219efb5f9d4541f6a521412f1f3ea12d",
            "20f79195bc5942979e14417e912f7f13",
            "72df3eb8dc424ef6b9ecdcf53629b3aa",
            "d1ec552dbf3d4ec5b8993aca91ffe892",
            "67ffeffd012847b79d5040db4fe5e6d4",
            "fb6df20c13654880ac20e7159838bf2f",
            "a67a121723e548839af6bc85482d8634",
            "e32ea9e4b5174bc5bdf5de850271c7c8",
            "de71b0d0fd5d496bbd7e315e7d730529",
            "408a40e83ea74d42a83ddbdc7218720b",
            "d73f2f82842c4ffe99f6646f56e2dbac",
            "e66b2a6635194bb580b0e610d05da668",
            "e86072db403a406fa3c4a9535434724c",
            "097dd2955b4540859586dff0240d7e0f",
            "9f13a4afab024232afb42fb0437d4b50",
            "f8148d99f5eb4e79bfb0f1da70ac1f3b",
            "398094f148d540d6b1e5456222e890d0",
            "b6b9e68b98d64af69f1eb17f9d5fb387",
            "2aad8ea8ca6441b797873fdf96d957be",
            "e30bfc9e38984ed0a6336c50cf3f4372",
            "b80b42aac8aa407cbe86b9f881b8366f",
            "adf2783ca6ef4d51998d244d98e5447b",
            "39b591c8c2fb482a914ef7c59650952e",
            "17db43c12e994ca8aae44bf9e32ab847",
            "193c13018a1643aca4e0b89fe6891f3d",
            "e2bf4c284a8248659e15f39e6329093b",
            "058760c9a93147caa7d28ee4965d0b6e"
          ]
        },
        "id": "EgKQHrOxR9to",
        "outputId": "5c0f7822-5844-4b47-fcf2-fdeda4da0910"
      },
      "execution_count": null,
      "outputs": [
        {
          "output_type": "stream",
          "name": "stderr",
          "text": [
            "WARNING:absl:You use TensorFlow DType <dtype: 'int64'> in tfds.features This will soon be deprecated in favor of NumPy DTypes. In the meantime it was converted to int64.\n"
          ]
        },
        {
          "output_type": "stream",
          "name": "stdout",
          "text": [
            "Downloading and preparing dataset 25.20 GiB (download: 25.20 GiB, generated: Unknown size, total: 25.20 GiB) to /root/tensorflow_datasets/coco/2017/1.1.0...\n"
          ]
        },
        {
          "output_type": "display_data",
          "data": {
            "text/plain": [
              "Dl Completed...: 0 url [00:00, ? url/s]"
            ],
            "application/vnd.jupyter.widget-view+json": {
              "version_major": 2,
              "version_minor": 0,
              "model_id": "2fb100f730ee4e31a9bbc331bfc50f9a"
            }
          },
          "metadata": {}
        },
        {
          "output_type": "display_data",
          "data": {
            "text/plain": [
              "Dl Size...: 0 MiB [00:00, ? MiB/s]"
            ],
            "application/vnd.jupyter.widget-view+json": {
              "version_major": 2,
              "version_minor": 0,
              "model_id": "fb6df20c13654880ac20e7159838bf2f"
            }
          },
          "metadata": {}
        },
        {
          "output_type": "display_data",
          "data": {
            "text/plain": [
              "Extraction completed...: 0 file [00:00, ? file/s]"
            ],
            "application/vnd.jupyter.widget-view+json": {
              "version_major": 2,
              "version_minor": 0,
              "model_id": "398094f148d540d6b1e5456222e890d0"
            }
          },
          "metadata": {}
        }
      ]
    },
    {
      "cell_type": "code",
      "source": [
        "# training and validation datasets\n",
        "train_dataset = dataset['train']\n",
        "val_dataset = dataset['validation']"
      ],
      "metadata": {
        "id": "IqGv3gLNyqGy"
      },
      "execution_count": null,
      "outputs": []
    },
    {
      "cell_type": "code",
      "source": [
        "# annotation files\n",
        "train_annotations = train_dataset.features['annotations']\n",
        "val_annotations = val_dataset.features['annotations']"
      ],
      "metadata": {
        "id": "ARC10Y5MR9oW"
      },
      "execution_count": null,
      "outputs": []
    },
    {
      "cell_type": "code",
      "source": [
        "#access the dataset and annotations without having to download them\n",
        "print(train_dataset)\n",
        "print(val_dataset)\n",
        "print(train_annotations)\n",
        "print(val_annotations)"
      ],
      "metadata": {
        "id": "EpPxSpIZR9l5"
      },
      "execution_count": null,
      "outputs": []
    },
    {
      "cell_type": "code",
      "source": [],
      "metadata": {
        "id": "kiJu_Vm3zSjH"
      },
      "execution_count": null,
      "outputs": []
    },
    {
      "cell_type": "markdown",
      "source": [
        "LOAD DATASETS"
      ],
      "metadata": {
        "id": "mpJoB-rmzTWU"
      }
    },
    {
      "cell_type": "code",
      "source": [
        "args.dataset_file = 'coco'\n",
        "args.coco_path = \"/comp_robot/cv_public_dataset/COCO2017/\" # the path of coco\n",
        "args.fix_size = False\n",
        "\n",
        "dataset_val = build_dataset(image_set='val', args=args)"
      ],
      "metadata": {
        "id": "SOkT_qudR9jv"
      },
      "execution_count": null,
      "outputs": []
    },
    {
      "cell_type": "code",
      "source": [
        "image, targets = dataset_val[0]"
      ],
      "metadata": {
        "id": "v5WjPBHzR9hb"
      },
      "execution_count": null,
      "outputs": []
    },
    {
      "cell_type": "code",
      "source": [
        "# build gt_dict for vis\n",
        "box_label = [id2name[int(item)] for item in targets['labels']]\n",
        "gt_dict = {\n",
        "    'boxes': targets['boxes'],\n",
        "    'image_id': targets['image_id'],\n",
        "    'size': targets['size'],\n",
        "    'box_label': box_label,\n",
        "}\n",
        "vslzr = COCOVisualizer()\n",
        "\n",
        "vslzr.visualize(image, gt_dict, savedir=None)"
      ],
      "metadata": {
        "id": "mDg1zBXXzcvo"
      },
      "execution_count": null,
      "outputs": []
    },
    {
      "cell_type": "code",
      "source": [
        "output = model.cuda()(image[None].cuda())\n",
        "output = postprocessors['bbox'](output, torch.Tensor([[1.0, 1.0]]).cuda())[0]"
      ],
      "metadata": {
        "id": "qocnI1hhzczF"
      },
      "execution_count": null,
      "outputs": []
    },
    {
      "cell_type": "code",
      "source": [
        "bash scripts/DINO_train.sh /content/DINO/datasets/coco.py"
      ],
      "metadata": {
        "id": "KEZTvRgTz0oZ"
      },
      "execution_count": null,
      "outputs": []
    },
    {
      "cell_type": "code",
      "source": [
        "bash scripts/DINO_train_submitit_swin.sh /content/DINO/datasets/coco.py /content/DINO/datasets/coco_eval.py"
      ],
      "metadata": {
        "id": "YRDe0gpbz0k6"
      },
      "execution_count": null,
      "outputs": []
    },
    {
      "cell_type": "code",
      "source": [],
      "metadata": {
        "id": "AONmKPyuz-T0"
      },
      "execution_count": null,
      "outputs": []
    },
    {
      "cell_type": "code",
      "source": [],
      "metadata": {
        "id": "kTJhELvxz-XT"
      },
      "execution_count": null,
      "outputs": []
    }
  ]
}